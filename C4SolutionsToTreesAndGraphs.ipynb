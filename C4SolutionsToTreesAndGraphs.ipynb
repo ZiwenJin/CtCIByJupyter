{
 "cells": [
  {
   "cell_type": "markdown",
   "metadata": {},
   "source": [
    "# Chapter 4 Solutions to Trees and Graphs"
   ]
  },
  {
   "cell_type": "markdown",
   "metadata": {},
   "source": [
    "# Notes"
   ]
  },
  {
   "cell_type": "markdown",
   "metadata": {},
   "source": [
    "Trees: recursive\n",
    "\n",
    "whether\n",
    "1. binary search (applied to following)\n",
    "2. balanced\n",
    "3. complete\n",
    "4. full: has either zero or two children\n",
    "5. perfect: complete and full"
   ]
  },
  {
   "cell_type": "markdown",
   "metadata": {},
   "source": [
    "## import packages"
   ]
  },
  {
   "cell_type": "code",
   "execution_count": 24,
   "metadata": {},
   "outputs": [],
   "source": [
    "import sys\n",
    "import math\n",
    "from collections import deque\n",
    "import pdb\n",
    "import random"
   ]
  },
  {
   "cell_type": "markdown",
   "metadata": {},
   "source": [
    "# 4.0"
   ]
  },
  {
   "cell_type": "code",
   "execution_count": 121,
   "metadata": {},
   "outputs": [
    {
     "name": "stdout",
     "output_type": "stream",
     "text": [
      "2, 3, 4, 5, 6, 7, 8, \n",
      "5, 3, 2, 4, 7, 6, 8, \n",
      "2, 4, 3, 6, 8, 7, 5, \n"
     ]
    }
   ],
   "source": [
    "class Node:\n",
    "    def __init__(self, name, left=None, right=None, parent=None):\n",
    "        self.name = name\n",
    "        self.left = left\n",
    "        self.right = right\n",
    "        self.parent = parent\n",
    "\n",
    "def inOrderTraversal(node):\n",
    "    if (node != None):\n",
    "        inOrderTraversal(node.left)\n",
    "        print(node.name, end=', ')\n",
    "        inOrderTraversal(node.right)\n",
    "        \n",
    "def preOrderTraversal(node):\n",
    "    if (node != None):\n",
    "        print(node.name, end=', ')\n",
    "        preOrderTraversal(node.left)\n",
    "        preOrderTraversal(node.right)\n",
    "        \n",
    "def postOrderTraversal(node):\n",
    "    if (node != None):\n",
    "        postOrderTraversal(node.left)\n",
    "        postOrderTraversal(node.right)\n",
    "        print(node.name, end=', ')\n",
    "        \n",
    "n2 = Node(2)\n",
    "n4 = Node(4)\n",
    "n6 = Node(6)\n",
    "n8 = Node(8)\n",
    "n3 = Node(3, n2, n4)\n",
    "n7 = Node(7, n6, n8)\n",
    "n5 = Node(5, n3, n7)\n",
    "\n",
    "inOrderTraversal(n5)\n",
    "print('')\n",
    "preOrderTraversal(n5)\n",
    "print('')\n",
    "postOrderTraversal(n5)\n",
    "print('')"
   ]
  },
  {
   "cell_type": "code",
   "execution_count": 31,
   "metadata": {},
   "outputs": [
    {
     "name": "stdout",
     "output_type": "stream",
     "text": [
      "1 \n",
      "2 3 \n",
      "6 5 3 \n",
      "\n",
      "1\n",
      "2 \n",
      "3 3 \n",
      "6 5 \n",
      "\n"
     ]
    }
   ],
   "source": [
    "class MinHeap:\n",
    "    def __init__(self):\n",
    "        self.values = []\n",
    "    \n",
    "    def insert(self, value):\n",
    "        self.values.append(value)\n",
    "        \n",
    "        tmpIndex = len(self.values) - 1\n",
    "        parIndex = math.floor((tmpIndex-1) / 2)\n",
    "        while (tmpIndex != 0 and value < self.values[parIndex]):\n",
    "            self.swap(tmpIndex, parIndex)\n",
    "            tmpIndex = parIndex\n",
    "            parIndex = math.floor((tmpIndex-1) / 2)\n",
    "    \n",
    "    def extractMin(self):\n",
    "        minRet = self.values[0]\n",
    "        newLen = len(self.values) - 1\n",
    "        self.values[0] = self.values.pop()\n",
    "        \n",
    "        tmpIndex = 0\n",
    "        lefIndex = tmpIndex * 2 + 1\n",
    "        rigIndex = tmpIndex * 2 + 2\n",
    "        \n",
    "        while (tmpIndex * 2 < newLen):\n",
    "            if (newLen == lefIndex):\n",
    "                if (self.values[tmpIndex] > self.values[lefIndex]):\n",
    "                    self.swap(tmpIndex, lefIndex)\n",
    "                    tmpIndex = lefIndex\n",
    "                else:\n",
    "                    break\n",
    "            elif (self.values[tmpIndex] > self.values[lefIndex] or self.values[tmpIndex] > self.values[rigIndex]):\n",
    "                if (self.values[lefIndex] <= self.values[rigIndex]):\n",
    "                    self.swap(tmpIndex, lefIndex)\n",
    "                    tmpIndex = lefIndex\n",
    "                else:\n",
    "                    self.swap(tmpIndex, rigIndex)\n",
    "                    tmpIndex = rigIndex\n",
    "            else:\n",
    "                break\n",
    "        return minRet\n",
    "    \n",
    "    def swap(self, i1, i2):\n",
    "        tmp = self.values[i1]\n",
    "        self.values[i1] = self.values[i2]\n",
    "        self.values[i2] = tmp\n",
    "    \n",
    "    def printTree(self):\n",
    "        level = 1\n",
    "        index = 0\n",
    "        for v in self.values:\n",
    "            if (index == level):\n",
    "                print('')\n",
    "                level *= 2\n",
    "                index = 0\n",
    "            print(v, end=' ')\n",
    "            index += 1\n",
    "        print('')\n",
    "\n",
    "        \n",
    "minHeap = MinHeap()\n",
    "\n",
    "minHeap.insert(5)\n",
    "minHeap.insert(2)\n",
    "minHeap.insert(3)\n",
    "minHeap.insert(6)\n",
    "minHeap.insert(1)\n",
    "minHeap.insert(3)\n",
    "minHeap.printTree()\n",
    "print('')\n",
    "\n",
    "print(minHeap.extractMin())\n",
    "minHeap.printTree()\n",
    "print('')\n"
   ]
  },
  {
   "cell_type": "markdown",
   "metadata": {},
   "source": [
    "## Heaps in Python"
   ]
  },
  {
   "cell_type": "code",
   "execution_count": 3,
   "metadata": {},
   "outputs": [],
   "source": [
    "import heapq\n",
    "import random"
   ]
  },
  {
   "cell_type": "code",
   "execution_count": 8,
   "metadata": {},
   "outputs": [],
   "source": [
    "nums = [random.randint(1, 100) for _ in range(10)]"
   ]
  },
  {
   "cell_type": "code",
   "execution_count": 9,
   "metadata": {},
   "outputs": [
    {
     "data": {
      "text/plain": [
       "[97, 51, 78, 86, 5, 76, 26, 42, 61, 84]"
      ]
     },
     "execution_count": 9,
     "metadata": {},
     "output_type": "execute_result"
    }
   ],
   "source": [
    "nums"
   ]
  },
  {
   "cell_type": "code",
   "execution_count": 10,
   "metadata": {},
   "outputs": [],
   "source": [
    "heapq.heapify(nums)"
   ]
  },
  {
   "cell_type": "code",
   "execution_count": 13,
   "metadata": {},
   "outputs": [
    {
     "data": {
      "text/plain": [
       "(list, [5, 42, 26, 61, 51, 76, 78, 86, 97, 84])"
      ]
     },
     "execution_count": 13,
     "metadata": {},
     "output_type": "execute_result"
    }
   ],
   "source": [
    "type(nums), nums"
   ]
  },
  {
   "cell_type": "code",
   "execution_count": 15,
   "metadata": {
    "scrolled": true
   },
   "outputs": [
    {
     "data": {
      "text/plain": [
       "[97, 86, 84]"
      ]
     },
     "execution_count": 15,
     "metadata": {},
     "output_type": "execute_result"
    }
   ],
   "source": [
    "heapq.nlargest(3, nums)"
   ]
  },
  {
   "cell_type": "code",
   "execution_count": 16,
   "metadata": {},
   "outputs": [
    {
     "data": {
      "text/plain": [
       "[97, 86, 84]"
      ]
     },
     "execution_count": 16,
     "metadata": {},
     "output_type": "execute_result"
    }
   ],
   "source": [
    "sorted(nums, key=lambda x: x, reverse=True)[:3]"
   ]
  },
  {
   "cell_type": "code",
   "execution_count": 18,
   "metadata": {},
   "outputs": [
    {
     "data": {
      "text/plain": [
       "(1, 'write spec')"
      ]
     },
     "execution_count": 18,
     "metadata": {},
     "output_type": "execute_result"
    }
   ],
   "source": [
    "h = []\n",
    "heapq.heappush(h, (5, 'write code'))\n",
    "heapq.heappush(h, (7, 'release product'))\n",
    "heapq.heappush(h, (1, 'write spec'))\n",
    "heapq.heappush(h, (3, 'create tests'))\n",
    "heapq.heappop(h)"
   ]
  },
  {
   "cell_type": "code",
   "execution_count": 19,
   "metadata": {},
   "outputs": [
    {
     "data": {
      "text/plain": [
       "[(3, 'create tests'), (7, 'release product'), (5, 'write code')]"
      ]
     },
     "execution_count": 19,
     "metadata": {},
     "output_type": "execute_result"
    }
   ],
   "source": [
    "h"
   ]
  },
  {
   "cell_type": "markdown",
   "metadata": {},
   "source": [
    "## Tries"
   ]
  },
  {
   "cell_type": "code",
   "execution_count": 20,
   "metadata": {},
   "outputs": [],
   "source": [
    "class TriesNode:\n",
    "    def __init__(self, value, flag=False, childrens=None):\n",
    "        self.value = value\n",
    "        self.flag = flag\n",
    "        self.childrens = childrens"
   ]
  },
  {
   "cell_type": "markdown",
   "metadata": {
    "collapsed": true
   },
   "source": [
    "## Graphs"
   ]
  },
  {
   "cell_type": "code",
   "execution_count": 25,
   "metadata": {
    "scrolled": true
   },
   "outputs": [
    {
     "name": "stdout",
     "output_type": "stream",
     "text": [
      "0: 1, 4, 5, \n",
      "1: 3, 4, \n",
      "2: 1, \n",
      "3: 2, 4, \n",
      "4: \n",
      "5: \n",
      "0, 1, 3, 2, 4, 5, \n",
      "0, 1, 4, 5, 3, 2, "
     ]
    }
   ],
   "source": [
    "class GraphNode:\n",
    "    def __init__(self, name):\n",
    "        self.name = name\n",
    "        self.neighbours = []\n",
    "        self.marked = False\n",
    "        \n",
    "    def push(self, nodeList):\n",
    "        self.neighbours.extend(nodeList)\n",
    "    \n",
    "    def visit(self):\n",
    "        print(self.name, end=', ')\n",
    "        \n",
    "    def reset(self):\n",
    "        self.marked = False\n",
    "        \n",
    "    def printNode(self):\n",
    "        print(self.name, end=': ')\n",
    "        for n in self.neighbours:\n",
    "            print(n.name, end=', ')\n",
    "        print('')\n",
    "\n",
    "class Graph:\n",
    "    def __init__(self, nodeList=[]):\n",
    "        self.nodes = nodeList\n",
    "    \n",
    "    def reset(self):\n",
    "        for n in self.nodes:\n",
    "            n.reset()\n",
    "        \n",
    "    def printGraph(self):\n",
    "        for n in self.nodes:\n",
    "            n.printNode()\n",
    "        \n",
    "def DFS(root):\n",
    "    if (root == None): return\n",
    "    root.visit()\n",
    "    root.marked = True\n",
    "    \n",
    "    for n in root.neighbours:\n",
    "        if (not n.marked):\n",
    "            DFS(n)\n",
    "    \n",
    "def BFS(root):\n",
    "    queue = deque([])\n",
    "    root.marked = True\n",
    "    queue.append(root)\n",
    "    \n",
    "    while (queue):\n",
    "        r = queue.popleft()\n",
    "        r.visit()\n",
    "        \n",
    "        for n in r.neighbours:\n",
    "            if (not n.marked):\n",
    "                n.marked = True\n",
    "                queue.append(n)\n",
    "\n",
    "\n",
    "n0 = GraphNode(0)\n",
    "n1 = GraphNode(1)\n",
    "n2 = GraphNode(2)\n",
    "n3 = GraphNode(3)\n",
    "n4 = GraphNode(4)\n",
    "n5 = GraphNode(5)\n",
    "n0.push([n1, n4, n5])\n",
    "n1.push([n3, n4])\n",
    "n2.push([n1])\n",
    "n3.push([n2, n4])\n",
    "\n",
    "g = Graph([n0, n1, n2, n3, n4, n5])\n",
    "g.printGraph()\n",
    "\n",
    "DFS(n0)\n",
    "print('')\n",
    "g.reset()\n",
    "BFS(n0)"
   ]
  },
  {
   "cell_type": "markdown",
   "metadata": {},
   "source": [
    "## 4.1 Route Between Nodes"
   ]
  },
  {
   "cell_type": "code",
   "execution_count": 29,
   "metadata": {},
   "outputs": [
    {
     "name": "stdout",
     "output_type": "stream",
     "text": [
      "False\n",
      "True\n"
     ]
    }
   ],
   "source": [
    "def findRoute(g, n1, n2):\n",
    "    if (n1 == n2): return True\n",
    "    \n",
    "    queue = deque([])\n",
    "    queue.append(n1)\n",
    "    n1.marked = True\n",
    "    \n",
    "    while (queue):\n",
    "        r = queue.popleft()\n",
    "        for n in r.neighbours:\n",
    "            if (n.marked == False):\n",
    "                if (n == n2):\n",
    "                    return True\n",
    "                else:\n",
    "                    queue.append(n)\n",
    "                    n.marked = True\n",
    "    \n",
    "    return False\n",
    "\n",
    "g.reset()\n",
    "print(findRoute(g, n4, n0))\n",
    "g.reset()\n",
    "print(findRoute(g, n0, n4))"
   ]
  },
  {
   "cell_type": "markdown",
   "metadata": {},
   "source": [
    "## 4.2 Minimal Tree"
   ]
  },
  {
   "cell_type": "code",
   "execution_count": 116,
   "metadata": {},
   "outputs": [
    {
     "name": "stdout",
     "output_type": "stream",
     "text": [
      "5, 3, 2, 1, 4, 7, 6, 8, "
     ]
    }
   ],
   "source": [
    "def createBinarySearchTree(list0):\n",
    "    if (list0 == []): return None\n",
    "    \n",
    "    n = len(list0)\n",
    "    mid = int((n - n%2) / 2)\n",
    "    curN = Node(list0[mid])\n",
    "    \n",
    "    if (n > 1):\n",
    "        curN.left = createBinarySearchTree(list0[:mid])\n",
    "        curN.right = createBinarySearchTree(list0[(mid+1):])\n",
    "    \n",
    "    return curN\n",
    "\n",
    "\n",
    "a2 = [1, 2, 3, 4, 5, 6, 7, 8]\n",
    "preOrderTraversal(createBinarySearchTree(a2))"
   ]
  },
  {
   "cell_type": "markdown",
   "metadata": {},
   "source": [
    "## 4.3 List of Depths"
   ]
  },
  {
   "cell_type": "code",
   "execution_count": 174,
   "metadata": {},
   "outputs": [
    {
     "name": "stdout",
     "output_type": "stream",
     "text": [
      "5, \n",
      "3, 7, \n",
      "2, 4, 6, \n",
      "1, \n",
      "\n",
      "5, \n",
      "3, 7, \n",
      "2, 4, 6, \n",
      "1, \n"
     ]
    }
   ],
   "source": [
    "def listOfDepths(root):\n",
    "    if (root == None): return\n",
    "    \n",
    "    listOfLists = []\n",
    "    listOfLists.append([root])\n",
    "    noNewLevel = False\n",
    "    \n",
    "    while (not noNewLevel):\n",
    "        curDepth = []\n",
    "        for n in listOfLists[len(listOfLists)-1]:\n",
    "            if (n.left):\n",
    "                curDepth.append(n.left)\n",
    "            if (n.right):\n",
    "                curDepth.append(n.right)\n",
    "        if (curDepth == []):\n",
    "            noNewLevel = True\n",
    "        else:\n",
    "            listOfLists.append(curDepth)\n",
    "    \n",
    "    for level in listOfLists:\n",
    "        for n in level:\n",
    "            print(n.name, end=', ')\n",
    "        print('')\n",
    "\n",
    "def listOfDepths2(root):\n",
    "    result = []\n",
    "    \n",
    "    current = []\n",
    "    if (root):\n",
    "        current.append(root)\n",
    "        \n",
    "    while (current):\n",
    "        result.append(current)\n",
    "        parents = current\n",
    "        current = []\n",
    "        for par in parents:\n",
    "            if (par.left):\n",
    "                current.append(par.left)\n",
    "            if (par.right):\n",
    "                current.append(par.right)\n",
    "                \n",
    "    return result\n",
    "        \n",
    "n31 = Node(1)\n",
    "n34 = Node(4)\n",
    "n36 = Node(6)\n",
    "n32 = Node(2, n31)\n",
    "n33 = Node(3, n32, n34)\n",
    "n37 = Node(7, n36)\n",
    "n35 = Node(5, n33, n37)\n",
    "\n",
    "listOfDepths(n35)\n",
    "print('')\n",
    "\n",
    "result = listOfDepths2(n35)\n",
    "for i in result:\n",
    "    for j in i:\n",
    "        print(j.name, end=', ')\n",
    "    print('')\n"
   ]
  },
  {
   "cell_type": "code",
   "execution_count": 143,
   "metadata": {},
   "outputs": [
    {
     "name": "stdout",
     "output_type": "stream",
     "text": [
      "a\n"
     ]
    }
   ],
   "source": [
    "if (1):\n",
    "    print('a')"
   ]
  },
  {
   "cell_type": "markdown",
   "metadata": {},
   "source": [
    "## 4.4 Check Balanced"
   ]
  },
  {
   "cell_type": "code",
   "execution_count": 191,
   "metadata": {},
   "outputs": [
    {
     "data": {
      "text/plain": [
       "False"
      ]
     },
     "execution_count": 191,
     "metadata": {},
     "output_type": "execute_result"
    }
   ],
   "source": [
    "# O(NlogN) time as each node is 'touched' once per node above it\n",
    "\n",
    "def isBalanced(root):\n",
    "    if (root == None): return True\n",
    "    \n",
    "    heightDiff = getHeight(root.left) - getHeight(root.right)\n",
    "    if (abs(heightDiff) > 1):\n",
    "        return False\n",
    "    else:\n",
    "        return isBalanced(root.left) and isBalanced(root.right)\n",
    "    \n",
    "def getHeight(node):\n",
    "    if (node == None): return 0\n",
    "    return max(getHeight(node.left), getHeight(node.right)) + 1\n",
    "\n",
    "        \n",
    "n41 = Node(1)\n",
    "n44 = Node(4)\n",
    "n48 = Node(5.5)\n",
    "n42 = Node(2, n41)\n",
    "n43 = Node(3, n42, n44)\n",
    "n46 = Node(6, n48)\n",
    "n47 = Node(7, n46)\n",
    "n45 = Node(5, n43, n47)\n",
    "\n",
    "isBalanced(n45)\n",
    "isBalanced(n43)\n",
    "isBalanced(n47)"
   ]
  },
  {
   "cell_type": "markdown",
   "metadata": {},
   "source": [
    "## 4.4 Check Balanced 2"
   ]
  },
  {
   "cell_type": "code",
   "execution_count": 188,
   "metadata": {},
   "outputs": [
    {
     "name": "stdout",
     "output_type": "stream",
     "text": [
      "False\n",
      "True\n",
      "False\n"
     ]
    }
   ],
   "source": [
    "# O(N) time as error (-1) is returned once it is found to be not balanced\n",
    "\n",
    "def checkHeight(root):\n",
    "    if (not root): return 0\n",
    "    \n",
    "    leftHeight = checkHeight(root.left)\n",
    "    rightHeight = checkHeight(root.right)\n",
    "    if (leftHeight == -1 or rightHeight == -1):\n",
    "        return -1\n",
    "    \n",
    "    heightDiff = leftHeight - rightHeight\n",
    "    if (abs(heightDiff) > 1):\n",
    "        return -1\n",
    "    else:\n",
    "        return max(leftHeight, rightHeight) + 1\n",
    "        \n",
    "def isBalanced2(root):\n",
    "    return checkHeight(root) == -1\n",
    "\n",
    "print(isBalanced(n45))\n",
    "print(isBalanced(n43))\n",
    "print(isBalanced(n47))"
   ]
  },
  {
   "cell_type": "markdown",
   "metadata": {},
   "source": [
    "## 4.5 Validate BST"
   ]
  },
  {
   "cell_type": "code",
   "execution_count": 194,
   "metadata": {},
   "outputs": [
    {
     "data": {
      "text/plain": [
       "True"
      ]
     },
     "execution_count": 194,
     "metadata": {},
     "output_type": "execute_result"
    }
   ],
   "source": [
    "# declaration: BST is left <= mid < right\n",
    "# HOWEVER, this is not true, all left nodes must be smaller than mid\n",
    "\n",
    "# FALSE SOLUTION\n",
    "def isBST(root):\n",
    "    if (not root): return True\n",
    "    \n",
    "    if (root.left):\n",
    "        if (root.left.name > root.name):\n",
    "            return False\n",
    "    if (root.right):\n",
    "        if (root.right.name <= root.name):\n",
    "            return False\n",
    "    return isBST(root.left) and isBST(root.right)\n",
    "\n",
    "isBST(n43)"
   ]
  },
  {
   "cell_type": "markdown",
   "metadata": {},
   "source": [
    "## 4.5 Validate BST 2"
   ]
  },
  {
   "cell_type": "code",
   "execution_count": 217,
   "metadata": {},
   "outputs": [
    {
     "data": {
      "text/plain": [
       "True"
      ]
     },
     "execution_count": 217,
     "metadata": {},
     "output_type": "execute_result"
    }
   ],
   "source": [
    "def checkBST2(root):\n",
    "    return isBST2(root, -sys.maxsize, sys.maxsize)\n",
    "\n",
    "def isBST2(node, minValue, maxValue):\n",
    "    if (not node):\n",
    "        return True\n",
    "    \n",
    "    if (node.name < minValue or node.name >= maxValue):\n",
    "        return False\n",
    "    \n",
    "    if ((not isBST2(node.left, minValue, node.name)) or (not isBST2(node.right, node.name, maxValue))):\n",
    "        return False\n",
    "    \n",
    "    return True\n",
    "\n",
    "n51 = Node(3)\n",
    "n52 = Node(7)\n",
    "n53 = Node(17)\n",
    "n54 = Node(5, n51, n52)\n",
    "n55 = Node(15, None, n53)\n",
    "n56 = Node(10, n54, n55)\n",
    "n57 = Node(30)\n",
    "n58 = Node(20, n56, n57)\n",
    "n51.parent = n54\n",
    "n52.parent = n54\n",
    "n53.parent = n55\n",
    "n54.parent = n56\n",
    "n55.parent = n56\n",
    "n56.parent = n58\n",
    "n57.parent = n58\n",
    "\n",
    "checkBST2(n58)\n"
   ]
  },
  {
   "cell_type": "markdown",
   "metadata": {},
   "source": [
    "## 4.6 Successor"
   ]
  },
  {
   "cell_type": "code",
   "execution_count": 221,
   "metadata": {},
   "outputs": [
    {
     "name": "stdout",
     "output_type": "stream",
     "text": [
      "last node\n"
     ]
    }
   ],
   "source": [
    "# in order successor is the leftmost node in the right subtree\n",
    "# and if no right subtree, go back to its parent\n",
    "\n",
    "def inorderSucc(node):\n",
    "    if (not node): return None\n",
    "    \n",
    "    if (node.right):\n",
    "        return leftMostChild(node.right)\n",
    "    else:\n",
    "        q = node\n",
    "        x = q.parent\n",
    "        \n",
    "        while (x and x.left != q):\n",
    "            q = x\n",
    "            x = x.parent\n",
    "        \n",
    "        return x\n",
    "\n",
    "def leftMostChild(node):\n",
    "    if (not node): return None\n",
    "    \n",
    "    while (node.left):\n",
    "        node = node.left\n",
    "    \n",
    "    return node\n",
    "\n",
    "print(inorderSucc(n57).name if inorderSucc(n57) else 'last node')"
   ]
  },
  {
   "cell_type": "markdown",
   "metadata": {},
   "source": [
    "## 4.7 Build Order"
   ]
  },
  {
   "cell_type": "code",
   "execution_count": 259,
   "metadata": {},
   "outputs": [
    {
     "name": "stdout",
     "output_type": "stream",
     "text": [
      "d, f, g, c, b, e, a, \n",
      "cycle\n"
     ]
    }
   ],
   "source": [
    "def findBuildOrder(projects, dependencies):\n",
    "    graph = buildGraph(projects, dependencies)\n",
    "    return orderProjects(graph.getNodes())\n",
    "\n",
    "def buildGraph(projects, dependencies):\n",
    "    graph = Graph()\n",
    "    for proj in projects:\n",
    "        graph.getOrCreateNode(proj)\n",
    "        \n",
    "    for dep in dependencies:\n",
    "        graph.addEdge(dep[0], dep[1])\n",
    "    \n",
    "    return graph\n",
    "\n",
    "def orderProjects(projects):\n",
    "    order = [None] * len(projects)\n",
    "    \n",
    "    [order, endOfList] = addNonDependent(order, projects, 0)\n",
    "    toBeProcessed = 0\n",
    "    while (toBeProcessed < len(projects)):\n",
    "        current = order[toBeProcessed]\n",
    "        \n",
    "        # circular dependency as no new project added during last loop\n",
    "        if (not current):\n",
    "            return None\n",
    "        \n",
    "        children = current.getChildren()\n",
    "        for child in children:\n",
    "            child.decrementDependencies()\n",
    "            \n",
    "        [order, endOfList] = addNonDependent(order, children, endOfList)\n",
    "        toBeProcessed += 1\n",
    "    \n",
    "    return order\n",
    "\n",
    "# insert projects with zero dependencies at index offset\n",
    "def addNonDependent(order, projects, offset):\n",
    "    for proj in projects:\n",
    "        if proj.getNumberDependencies() == 0:\n",
    "            order[offset] = proj\n",
    "            offset += 1\n",
    "            \n",
    "    return [order, offset]\n",
    "\n",
    "class Graph:\n",
    "    def __init__(self):\n",
    "        self.nodes = []  # project nodes\n",
    "        self.maps = {}  # project nodes' names\n",
    "    \n",
    "    def getOrCreateNode(self, name):\n",
    "        if name not in self.maps:\n",
    "            node = Project(name)\n",
    "            self.nodes.append(node)\n",
    "            self.maps[name] = node\n",
    "            \n",
    "        return self.maps[name]\n",
    "    \n",
    "    def addEdge(self, startName, endName):\n",
    "        start = self.getOrCreateNode(startName)\n",
    "        end = self.getOrCreateNode(endName)\n",
    "        start.addNeighbor(end)\n",
    "        \n",
    "    def getNodes(self):\n",
    "        return self.nodes\n",
    "    \n",
    "class Project:\n",
    "    def __init__(self, name):\n",
    "        self.children = []  # list of children\n",
    "        self.maps = {}  # children's dict\n",
    "        self.name = name  # self name\n",
    "        self.dependencies = 0  # number of incoming edges\n",
    "    \n",
    "    def addNeighbor(self, node):\n",
    "        if node.getName() not in self.maps:\n",
    "            self.children.append(node)\n",
    "            self.maps[node.getName()] = node\n",
    "            node.incrementDependencies()\n",
    "            \n",
    "    def incrementDependencies(self):\n",
    "        self.dependencies += 1\n",
    "    \n",
    "    def decrementDependencies(self):\n",
    "        self.dependencies -= 1\n",
    "        \n",
    "    def getName(self):\n",
    "        return self.name\n",
    "    \n",
    "    def getChildren(self):\n",
    "        return self.children\n",
    "    \n",
    "    def getNumberDependencies(self):\n",
    "        return self.dependencies\n",
    "\n",
    "def printBuildOrder(order):\n",
    "    if (not order):\n",
    "        print('cycle')\n",
    "        return\n",
    "    \n",
    "    for proj in order:\n",
    "        print(proj.getName(), end=', ')\n",
    "    print('')\n",
    "    \n",
    "projects = ['a','b','c','d','e','f','g']\n",
    "dependencies1 = [['f','c'], ['f','b'], ['f','a'], ['c','a'], ['b','a'], ['b','e'], ['d','g'], ['e', 'a']]\n",
    "printBuildOrder(findBuildOrder(projects, dependencies1))\n",
    "\n",
    "dependencies2 = [['f','c'], ['f','b'], ['f','a'], ['c','a'], ['b','a'], ['b','e'], ['a','e'], ['d','g'], ['e', 'a']]\n",
    "printBuildOrder(findBuildOrder(projects, dependencies2))"
   ]
  },
  {
   "cell_type": "markdown",
   "metadata": {},
   "source": [
    "## 4.8 First Common Ancestor"
   ]
  },
  {
   "cell_type": "code",
   "execution_count": 270,
   "metadata": {},
   "outputs": [
    {
     "name": "stdout",
     "output_type": "stream",
     "text": [
      "8\n"
     ]
    }
   ],
   "source": [
    "# with access to parents\n",
    "# set 2 nodes to the same height, then check their parents level by level\n",
    "# O(d) time, where d is the deeper depth\n",
    "\n",
    "def commonAncestor(p, q):\n",
    "    depthDiff = depth(p) - depth(q)\n",
    "    first = q if depthDiff > 0 else p  # shallower one\n",
    "    second = p if depthDiff > 0 else q  # deeper one\n",
    "    second = goUpBy(second, abs(depthDiff))\n",
    "    \n",
    "    while (first != None and second != None and first != second):\n",
    "        first = first.parent\n",
    "        second = second.parent\n",
    "        \n",
    "    return None if (first == None or second == None) else first\n",
    "\n",
    "def goUpBy(node, num):\n",
    "    while (num > 0 and node != None):\n",
    "        node = node.parent\n",
    "        num -= 1\n",
    "        \n",
    "    return node\n",
    "\n",
    "def depth(node):\n",
    "    depth = 0\n",
    "    while (node != None):\n",
    "        node = node.parent\n",
    "        depth += 1\n",
    "        \n",
    "    return depth\n",
    "\n",
    "\n",
    "n81 = Node(1)\n",
    "n82 = Node(2)\n",
    "n83 = Node(3)\n",
    "n84 = Node(4, n81, n82)\n",
    "n85 = Node(5, None, n83)\n",
    "n86 = Node(6, n84, n85)\n",
    "n87 = Node(7)\n",
    "n88 = Node(8, n86, n87)\n",
    "n81.parent = n84\n",
    "n82.parent = n84\n",
    "n83.parent = n85\n",
    "n84.parent = n86\n",
    "n85.parent = n86\n",
    "n86.parent = n88\n",
    "n87.parent = n88\n",
    "\n",
    "print(commonAncestor(n81, n87).name)"
   ]
  },
  {
   "cell_type": "code",
   "execution_count": 284,
   "metadata": {},
   "outputs": [
    {
     "name": "stdout",
     "output_type": "stream",
     "text": [
      "6\n",
      "None\n"
     ]
    }
   ],
   "source": [
    "# with access to parents\n",
    "# bubble up one node, and check whether its sibling covers the other node\n",
    "# O(d) time, where d is the deeper depth\n",
    "\n",
    "def commonAncestor2(p, q):\n",
    "    if (covers(p, q)):\n",
    "        return p\n",
    "    elif (covers(q, p)):\n",
    "        return q\n",
    "    \n",
    "    sibling = getSibling(p)\n",
    "    parent = p.parent\n",
    "    while (parent != None and not covers(sibling, q)):\n",
    "        sibling = getSibling(parent)\n",
    "        parent = parent.parent\n",
    "        \n",
    "    return None if parent == None else parent\n",
    "\n",
    "def covers(root, p):\n",
    "    if (root == None):\n",
    "        return False\n",
    "    \n",
    "    while (root != p and p != None):\n",
    "        p = p.parent\n",
    "    \n",
    "    return p != None\n",
    "\n",
    "def getSibling(node):\n",
    "    if (node == None or node.parent == None):\n",
    "        return None\n",
    "    \n",
    "    parent = node.parent\n",
    "    return parent.right if parent.left == node else parent.left\n",
    "\n",
    "n89 = Node(9)\n",
    "print(None if not commonAncestor2(n85, n81) else commonAncestor2(n85, n81).name)\n",
    "print(None if not commonAncestor2(n85, n89) else commonAncestor2(n85, n89).name)"
   ]
  },
  {
   "cell_type": "code",
   "execution_count": 296,
   "metadata": {},
   "outputs": [
    {
     "name": "stdout",
     "output_type": "stream",
     "text": [
      "6\n",
      "None\n"
     ]
    }
   ],
   "source": [
    "# without access to parent\n",
    "\n",
    "def commonAncestor3(root, p, q):\n",
    "    if (not covers(root, p) or not covers(root, q)):\n",
    "        return None\n",
    "    return ancestorHelper(root, p, q)\n",
    "\n",
    "def ancestorHelper(root, p, q):\n",
    "    if (root == None or root == p or root == q):\n",
    "        return root\n",
    "    \n",
    "    pIsOnLeft = covers(root.left, p)\n",
    "    qIsOnLeft = covers(root.left, q)\n",
    "    if (pIsOnLeft != qIsOnLeft):\n",
    "        return root  # p, q are on different sides\n",
    "    \n",
    "    childSide = root.left if pIsOnLeft else root.right\n",
    "    return ancestorHelper(childSide, p, q)\n",
    "\n",
    "def covers(root, p):\n",
    "    if (root == None):\n",
    "        return False\n",
    "    if (root == p):\n",
    "        return True\n",
    "    \n",
    "    return covers(root.left, p) or covers(root.right, p)\n",
    "\n",
    "\n",
    "print(None if not commonAncestor3(n88, n85, n81) else commonAncestor3(n88, n85, n81).name)\n",
    "print(None if not commonAncestor3(n88, n85, n89) else commonAncestor3(n88, n85, n89).name)"
   ]
  },
  {
   "cell_type": "markdown",
   "metadata": {},
   "source": [
    "## 4.9 BST Sequences"
   ]
  },
  {
   "cell_type": "code",
   "execution_count": 352,
   "metadata": {},
   "outputs": [
    {
     "name": "stdout",
     "output_type": "stream",
     "text": [
      "1\n",
      "[] [5] [] [4, 3]\n",
      "[[4, 3, 5]]\n",
      "[3] [] [[4, 3, 5]] [4, 5]\n",
      "[[4, 3, 5], [4, 5, 3]]\n",
      "2\n",
      "1\n",
      "[3, 5] [7, 8] [] [6, 4]\n",
      "1\n",
      "[5] [7, 8] [] [6, 4, 3]\n",
      "1\n",
      "[] [7, 8] [] [6, 4, 3, 5]\n",
      "[[6, 4, 3, 5, 7, 8]]\n",
      "[5] [8] [[6, 4, 3, 5, 7, 8]] [6, 4, 3, 7]\n",
      "1\n",
      "[] [8] [[6, 4, 3, 5, 7, 8]] [6, 4, 3, 7, 5]\n",
      "[[6, 4, 3, 5, 7, 8], [6, 4, 3, 7, 5, 8]]\n",
      "[5] [] [[6, 4, 3, 5, 7, 8], [6, 4, 3, 7, 5, 8]] [6, 4, 3, 7, 8]\n",
      "[[6, 4, 3, 5, 7, 8], [6, 4, 3, 7, 5, 8], [6, 4, 3, 7, 8, 5]]\n",
      "2\n",
      "[[6, 4, 3, 5, 7, 8], [6, 4, 3, 7, 5, 8], [6, 4, 3, 7, 8, 5]]\n",
      "2\n",
      "[[6, 4, 3, 5, 7, 8], [6, 4, 3, 7, 5, 8], [6, 4, 3, 7, 8, 5]]\n",
      "[3, 5] [8] [[6, 4, 3, 5, 7, 8], [6, 4, 3, 7, 5, 8], [6, 4, 3, 7, 8, 5]] [6, 4, 7]\n",
      "1\n",
      "[5] [8] [[6, 4, 3, 5, 7, 8], [6, 4, 3, 7, 5, 8], [6, 4, 3, 7, 8, 5]] [6, 4, 7, 3]\n",
      "1\n",
      "[] [8] [[6, 4, 3, 5, 7, 8], [6, 4, 3, 7, 5, 8], [6, 4, 3, 7, 8, 5]] [6, 4, 7, 3, 5]\n",
      "[[6, 4, 3, 5, 7, 8], [6, 4, 3, 7, 5, 8], [6, 4, 3, 7, 8, 5], [6, 4, 7, 3, 5, 8]]\n",
      "[5] [] [[6, 4, 3, 5, 7, 8], [6, 4, 3, 7, 5, 8], [6, 4, 3, 7, 8, 5], [6, 4, 7, 3, 5, 8]] [6, 4, 7, 3, 8]\n",
      "[[6, 4, 3, 5, 7, 8], [6, 4, 3, 7, 5, 8], [6, 4, 3, 7, 8, 5], [6, 4, 7, 3, 5, 8], [6, 4, 7, 3, 8, 5]]\n",
      "2\n",
      "[[6, 4, 3, 5, 7, 8], [6, 4, 3, 7, 5, 8], [6, 4, 3, 7, 8, 5], [6, 4, 7, 3, 5, 8], [6, 4, 7, 3, 8, 5]]\n",
      "[3, 5] [] [[6, 4, 3, 5, 7, 8], [6, 4, 3, 7, 5, 8], [6, 4, 3, 7, 8, 5], [6, 4, 7, 3, 5, 8], [6, 4, 7, 3, 8, 5]] [6, 4, 7, 8]\n",
      "[[6, 4, 3, 5, 7, 8], [6, 4, 3, 7, 5, 8], [6, 4, 3, 7, 8, 5], [6, 4, 7, 3, 5, 8], [6, 4, 7, 3, 8, 5], [6, 4, 7, 8, 3, 5]]\n",
      "2\n",
      "[[6, 4, 3, 5, 7, 8], [6, 4, 3, 7, 5, 8], [6, 4, 3, 7, 8, 5], [6, 4, 7, 3, 5, 8], [6, 4, 7, 3, 8, 5], [6, 4, 7, 8, 3, 5]]\n",
      "2\n",
      "[[6, 4, 3, 5, 7, 8], [6, 4, 3, 7, 5, 8], [6, 4, 3, 7, 8, 5], [6, 4, 7, 3, 5, 8], [6, 4, 7, 3, 8, 5], [6, 4, 7, 8, 3, 5]]\n",
      "[4, 3, 5] [8] [[6, 4, 3, 5, 7, 8], [6, 4, 3, 7, 5, 8], [6, 4, 3, 7, 8, 5], [6, 4, 7, 3, 5, 8], [6, 4, 7, 3, 8, 5], [6, 4, 7, 8, 3, 5]] [6, 7]\n",
      "1\n",
      "[3, 5] [8] [[6, 4, 3, 5, 7, 8], [6, 4, 3, 7, 5, 8], [6, 4, 3, 7, 8, 5], [6, 4, 7, 3, 5, 8], [6, 4, 7, 3, 8, 5], [6, 4, 7, 8, 3, 5]] [6, 7, 4]\n",
      "1\n",
      "[5] [8] [[6, 4, 3, 5, 7, 8], [6, 4, 3, 7, 5, 8], [6, 4, 3, 7, 8, 5], [6, 4, 7, 3, 5, 8], [6, 4, 7, 3, 8, 5], [6, 4, 7, 8, 3, 5]] [6, 7, 4, 3]\n",
      "1\n",
      "[] [8] [[6, 4, 3, 5, 7, 8], [6, 4, 3, 7, 5, 8], [6, 4, 3, 7, 8, 5], [6, 4, 7, 3, 5, 8], [6, 4, 7, 3, 8, 5], [6, 4, 7, 8, 3, 5]] [6, 7, 4, 3, 5]\n",
      "[[6, 4, 3, 5, 7, 8], [6, 4, 3, 7, 5, 8], [6, 4, 3, 7, 8, 5], [6, 4, 7, 3, 5, 8], [6, 4, 7, 3, 8, 5], [6, 4, 7, 8, 3, 5], [6, 7, 4, 3, 5, 8]]\n",
      "[5] [] [[6, 4, 3, 5, 7, 8], [6, 4, 3, 7, 5, 8], [6, 4, 3, 7, 8, 5], [6, 4, 7, 3, 5, 8], [6, 4, 7, 3, 8, 5], [6, 4, 7, 8, 3, 5], [6, 7, 4, 3, 5, 8]] [6, 7, 4, 3, 8]\n",
      "[[6, 4, 3, 5, 7, 8], [6, 4, 3, 7, 5, 8], [6, 4, 3, 7, 8, 5], [6, 4, 7, 3, 5, 8], [6, 4, 7, 3, 8, 5], [6, 4, 7, 8, 3, 5], [6, 7, 4, 3, 5, 8], [6, 7, 4, 3, 8, 5]]\n",
      "2\n",
      "[[6, 4, 3, 5, 7, 8], [6, 4, 3, 7, 5, 8], [6, 4, 3, 7, 8, 5], [6, 4, 7, 3, 5, 8], [6, 4, 7, 3, 8, 5], [6, 4, 7, 8, 3, 5], [6, 7, 4, 3, 5, 8], [6, 7, 4, 3, 8, 5]]\n",
      "[3, 5] [] [[6, 4, 3, 5, 7, 8], [6, 4, 3, 7, 5, 8], [6, 4, 3, 7, 8, 5], [6, 4, 7, 3, 5, 8], [6, 4, 7, 3, 8, 5], [6, 4, 7, 8, 3, 5], [6, 7, 4, 3, 5, 8], [6, 7, 4, 3, 8, 5]] [6, 7, 4, 8]\n",
      "[[6, 4, 3, 5, 7, 8], [6, 4, 3, 7, 5, 8], [6, 4, 3, 7, 8, 5], [6, 4, 7, 3, 5, 8], [6, 4, 7, 3, 8, 5], [6, 4, 7, 8, 3, 5], [6, 7, 4, 3, 5, 8], [6, 7, 4, 3, 8, 5], [6, 7, 4, 8, 3, 5]]\n",
      "2\n",
      "[[6, 4, 3, 5, 7, 8], [6, 4, 3, 7, 5, 8], [6, 4, 3, 7, 8, 5], [6, 4, 7, 3, 5, 8], [6, 4, 7, 3, 8, 5], [6, 4, 7, 8, 3, 5], [6, 7, 4, 3, 5, 8], [6, 7, 4, 3, 8, 5], [6, 7, 4, 8, 3, 5]]\n",
      "[4, 3, 5] [] [[6, 4, 3, 5, 7, 8], [6, 4, 3, 7, 5, 8], [6, 4, 3, 7, 8, 5], [6, 4, 7, 3, 5, 8], [6, 4, 7, 3, 8, 5], [6, 4, 7, 8, 3, 5], [6, 7, 4, 3, 5, 8], [6, 7, 4, 3, 8, 5], [6, 7, 4, 8, 3, 5]] [6, 7, 8]\n",
      "[[6, 4, 3, 5, 7, 8], [6, 4, 3, 7, 5, 8], [6, 4, 3, 7, 8, 5], [6, 4, 7, 3, 5, 8], [6, 4, 7, 3, 8, 5], [6, 4, 7, 8, 3, 5], [6, 7, 4, 3, 5, 8], [6, 7, 4, 3, 8, 5], [6, 7, 4, 8, 3, 5], [6, 7, 8, 4, 3, 5]]\n",
      "2\n",
      "[[6, 4, 3, 5, 7, 8], [6, 4, 3, 7, 5, 8], [6, 4, 3, 7, 8, 5], [6, 4, 7, 3, 5, 8], [6, 4, 7, 3, 8, 5], [6, 4, 7, 8, 3, 5], [6, 7, 4, 3, 5, 8], [6, 7, 4, 3, 8, 5], [6, 7, 4, 8, 3, 5], [6, 7, 8, 4, 3, 5]]\n",
      "2\n",
      "1\n",
      "[5, 3] [7, 8] [] [6, 4, 3, 5, 4]\n",
      "1\n",
      "[3] [7, 8] [] [6, 4, 3, 5, 4, 5]\n",
      "1\n",
      "[] [7, 8] [] [6, 4, 3, 5, 4, 5, 3]\n",
      "[[6, 4, 3, 5, 4, 5, 3, 7, 8]]\n",
      "[3] [8] [[6, 4, 3, 5, 4, 5, 3, 7, 8]] [6, 4, 3, 5, 4, 5, 7]\n",
      "1\n",
      "[] [8] [[6, 4, 3, 5, 4, 5, 3, 7, 8]] [6, 4, 3, 5, 4, 5, 7, 3]\n",
      "[[6, 4, 3, 5, 4, 5, 3, 7, 8], [6, 4, 3, 5, 4, 5, 7, 3, 8]]\n",
      "[3] [] [[6, 4, 3, 5, 4, 5, 3, 7, 8], [6, 4, 3, 5, 4, 5, 7, 3, 8]] [6, 4, 3, 5, 4, 5, 7, 8]\n",
      "[[6, 4, 3, 5, 4, 5, 3, 7, 8], [6, 4, 3, 5, 4, 5, 7, 3, 8], [6, 4, 3, 5, 4, 5, 7, 8, 3]]\n",
      "2\n",
      "[[6, 4, 3, 5, 4, 5, 3, 7, 8], [6, 4, 3, 5, 4, 5, 7, 3, 8], [6, 4, 3, 5, 4, 5, 7, 8, 3]]\n",
      "2\n",
      "[[6, 4, 3, 5, 4, 5, 3, 7, 8], [6, 4, 3, 5, 4, 5, 7, 3, 8], [6, 4, 3, 5, 4, 5, 7, 8, 3]]\n",
      "[5, 3] [8] [[6, 4, 3, 5, 4, 5, 3, 7, 8], [6, 4, 3, 5, 4, 5, 7, 3, 8], [6, 4, 3, 5, 4, 5, 7, 8, 3]] [6, 4, 3, 5, 4, 7]\n",
      "1\n",
      "[3] [8] [[6, 4, 3, 5, 4, 5, 3, 7, 8], [6, 4, 3, 5, 4, 5, 7, 3, 8], [6, 4, 3, 5, 4, 5, 7, 8, 3]] [6, 4, 3, 5, 4, 7, 5]\n",
      "1\n",
      "[] [8] [[6, 4, 3, 5, 4, 5, 3, 7, 8], [6, 4, 3, 5, 4, 5, 7, 3, 8], [6, 4, 3, 5, 4, 5, 7, 8, 3]] [6, 4, 3, 5, 4, 7, 5, 3]\n",
      "[[6, 4, 3, 5, 4, 5, 3, 7, 8], [6, 4, 3, 5, 4, 5, 7, 3, 8], [6, 4, 3, 5, 4, 5, 7, 8, 3], [6, 4, 3, 5, 4, 7, 5, 3, 8]]\n",
      "[3] [] [[6, 4, 3, 5, 4, 5, 3, 7, 8], [6, 4, 3, 5, 4, 5, 7, 3, 8], [6, 4, 3, 5, 4, 5, 7, 8, 3], [6, 4, 3, 5, 4, 7, 5, 3, 8]] [6, 4, 3, 5, 4, 7, 5, 8]\n",
      "[[6, 4, 3, 5, 4, 5, 3, 7, 8], [6, 4, 3, 5, 4, 5, 7, 3, 8], [6, 4, 3, 5, 4, 5, 7, 8, 3], [6, 4, 3, 5, 4, 7, 5, 3, 8], [6, 4, 3, 5, 4, 7, 5, 8, 3]]\n",
      "2\n",
      "[[6, 4, 3, 5, 4, 5, 3, 7, 8], [6, 4, 3, 5, 4, 5, 7, 3, 8], [6, 4, 3, 5, 4, 5, 7, 8, 3], [6, 4, 3, 5, 4, 7, 5, 3, 8], [6, 4, 3, 5, 4, 7, 5, 8, 3]]\n",
      "[5, 3] [] [[6, 4, 3, 5, 4, 5, 3, 7, 8], [6, 4, 3, 5, 4, 5, 7, 3, 8], [6, 4, 3, 5, 4, 5, 7, 8, 3], [6, 4, 3, 5, 4, 7, 5, 3, 8], [6, 4, 3, 5, 4, 7, 5, 8, 3]] [6, 4, 3, 5, 4, 7, 8]\n",
      "[[6, 4, 3, 5, 4, 5, 3, 7, 8], [6, 4, 3, 5, 4, 5, 7, 3, 8], [6, 4, 3, 5, 4, 5, 7, 8, 3], [6, 4, 3, 5, 4, 7, 5, 3, 8], [6, 4, 3, 5, 4, 7, 5, 8, 3], [6, 4, 3, 5, 4, 7, 8, 5, 3]]\n",
      "2\n",
      "[[6, 4, 3, 5, 4, 5, 3, 7, 8], [6, 4, 3, 5, 4, 5, 7, 3, 8], [6, 4, 3, 5, 4, 5, 7, 8, 3], [6, 4, 3, 5, 4, 7, 5, 3, 8], [6, 4, 3, 5, 4, 7, 5, 8, 3], [6, 4, 3, 5, 4, 7, 8, 5, 3]]\n",
      "2\n",
      "[[6, 4, 3, 5, 4, 5, 3, 7, 8], [6, 4, 3, 5, 4, 5, 7, 3, 8], [6, 4, 3, 5, 4, 5, 7, 8, 3], [6, 4, 3, 5, 4, 7, 5, 3, 8], [6, 4, 3, 5, 4, 7, 5, 8, 3], [6, 4, 3, 5, 4, 7, 8, 5, 3]]\n",
      "[4, 5, 3] [8] [[6, 4, 3, 5, 4, 5, 3, 7, 8], [6, 4, 3, 5, 4, 5, 7, 3, 8], [6, 4, 3, 5, 4, 5, 7, 8, 3], [6, 4, 3, 5, 4, 7, 5, 3, 8], [6, 4, 3, 5, 4, 7, 5, 8, 3], [6, 4, 3, 5, 4, 7, 8, 5, 3]] [6, 4, 3, 5, 7]\n",
      "1\n",
      "[5, 3] [8] [[6, 4, 3, 5, 4, 5, 3, 7, 8], [6, 4, 3, 5, 4, 5, 7, 3, 8], [6, 4, 3, 5, 4, 5, 7, 8, 3], [6, 4, 3, 5, 4, 7, 5, 3, 8], [6, 4, 3, 5, 4, 7, 5, 8, 3], [6, 4, 3, 5, 4, 7, 8, 5, 3]] [6, 4, 3, 5, 7, 4]\n",
      "1\n",
      "[3] [8] [[6, 4, 3, 5, 4, 5, 3, 7, 8], [6, 4, 3, 5, 4, 5, 7, 3, 8], [6, 4, 3, 5, 4, 5, 7, 8, 3], [6, 4, 3, 5, 4, 7, 5, 3, 8], [6, 4, 3, 5, 4, 7, 5, 8, 3], [6, 4, 3, 5, 4, 7, 8, 5, 3]] [6, 4, 3, 5, 7, 4, 5]\n",
      "1\n",
      "[] [8] [[6, 4, 3, 5, 4, 5, 3, 7, 8], [6, 4, 3, 5, 4, 5, 7, 3, 8], [6, 4, 3, 5, 4, 5, 7, 8, 3], [6, 4, 3, 5, 4, 7, 5, 3, 8], [6, 4, 3, 5, 4, 7, 5, 8, 3], [6, 4, 3, 5, 4, 7, 8, 5, 3]] [6, 4, 3, 5, 7, 4, 5, 3]\n",
      "[[6, 4, 3, 5, 4, 5, 3, 7, 8], [6, 4, 3, 5, 4, 5, 7, 3, 8], [6, 4, 3, 5, 4, 5, 7, 8, 3], [6, 4, 3, 5, 4, 7, 5, 3, 8], [6, 4, 3, 5, 4, 7, 5, 8, 3], [6, 4, 3, 5, 4, 7, 8, 5, 3], [6, 4, 3, 5, 7, 4, 5, 3, 8]]\n",
      "[3] [] [[6, 4, 3, 5, 4, 5, 3, 7, 8], [6, 4, 3, 5, 4, 5, 7, 3, 8], [6, 4, 3, 5, 4, 5, 7, 8, 3], [6, 4, 3, 5, 4, 7, 5, 3, 8], [6, 4, 3, 5, 4, 7, 5, 8, 3], [6, 4, 3, 5, 4, 7, 8, 5, 3], [6, 4, 3, 5, 7, 4, 5, 3, 8]] [6, 4, 3, 5, 7, 4, 5, 8]\n",
      "[[6, 4, 3, 5, 4, 5, 3, 7, 8], [6, 4, 3, 5, 4, 5, 7, 3, 8], [6, 4, 3, 5, 4, 5, 7, 8, 3], [6, 4, 3, 5, 4, 7, 5, 3, 8], [6, 4, 3, 5, 4, 7, 5, 8, 3], [6, 4, 3, 5, 4, 7, 8, 5, 3], [6, 4, 3, 5, 7, 4, 5, 3, 8], [6, 4, 3, 5, 7, 4, 5, 8, 3]]\n",
      "2\n",
      "[[6, 4, 3, 5, 4, 5, 3, 7, 8], [6, 4, 3, 5, 4, 5, 7, 3, 8], [6, 4, 3, 5, 4, 5, 7, 8, 3], [6, 4, 3, 5, 4, 7, 5, 3, 8], [6, 4, 3, 5, 4, 7, 5, 8, 3], [6, 4, 3, 5, 4, 7, 8, 5, 3], [6, 4, 3, 5, 7, 4, 5, 3, 8], [6, 4, 3, 5, 7, 4, 5, 8, 3]]\n",
      "[5, 3] [] [[6, 4, 3, 5, 4, 5, 3, 7, 8], [6, 4, 3, 5, 4, 5, 7, 3, 8], [6, 4, 3, 5, 4, 5, 7, 8, 3], [6, 4, 3, 5, 4, 7, 5, 3, 8], [6, 4, 3, 5, 4, 7, 5, 8, 3], [6, 4, 3, 5, 4, 7, 8, 5, 3], [6, 4, 3, 5, 7, 4, 5, 3, 8], [6, 4, 3, 5, 7, 4, 5, 8, 3]] [6, 4, 3, 5, 7, 4, 8]\n",
      "[[6, 4, 3, 5, 4, 5, 3, 7, 8], [6, 4, 3, 5, 4, 5, 7, 3, 8], [6, 4, 3, 5, 4, 5, 7, 8, 3], [6, 4, 3, 5, 4, 7, 5, 3, 8], [6, 4, 3, 5, 4, 7, 5, 8, 3], [6, 4, 3, 5, 4, 7, 8, 5, 3], [6, 4, 3, 5, 7, 4, 5, 3, 8], [6, 4, 3, 5, 7, 4, 5, 8, 3], [6, 4, 3, 5, 7, 4, 8, 5, 3]]\n",
      "2\n",
      "[[6, 4, 3, 5, 4, 5, 3, 7, 8], [6, 4, 3, 5, 4, 5, 7, 3, 8], [6, 4, 3, 5, 4, 5, 7, 8, 3], [6, 4, 3, 5, 4, 7, 5, 3, 8], [6, 4, 3, 5, 4, 7, 5, 8, 3], [6, 4, 3, 5, 4, 7, 8, 5, 3], [6, 4, 3, 5, 7, 4, 5, 3, 8], [6, 4, 3, 5, 7, 4, 5, 8, 3], [6, 4, 3, 5, 7, 4, 8, 5, 3]]\n",
      "[4, 5, 3] [] [[6, 4, 3, 5, 4, 5, 3, 7, 8], [6, 4, 3, 5, 4, 5, 7, 3, 8], [6, 4, 3, 5, 4, 5, 7, 8, 3], [6, 4, 3, 5, 4, 7, 5, 3, 8], [6, 4, 3, 5, 4, 7, 5, 8, 3], [6, 4, 3, 5, 4, 7, 8, 5, 3], [6, 4, 3, 5, 7, 4, 5, 3, 8], [6, 4, 3, 5, 7, 4, 5, 8, 3], [6, 4, 3, 5, 7, 4, 8, 5, 3]] [6, 4, 3, 5, 7, 8]\n",
      "[[6, 4, 3, 5, 4, 5, 3, 7, 8], [6, 4, 3, 5, 4, 5, 7, 3, 8], [6, 4, 3, 5, 4, 5, 7, 8, 3], [6, 4, 3, 5, 4, 7, 5, 3, 8], [6, 4, 3, 5, 4, 7, 5, 8, 3], [6, 4, 3, 5, 4, 7, 8, 5, 3], [6, 4, 3, 5, 7, 4, 5, 3, 8], [6, 4, 3, 5, 7, 4, 5, 8, 3], [6, 4, 3, 5, 7, 4, 8, 5, 3], [6, 4, 3, 5, 7, 8, 4, 5, 3]]\n",
      "2\n",
      "[[6, 4, 3, 5, 4, 5, 3, 7, 8], [6, 4, 3, 5, 4, 5, 7, 3, 8], [6, 4, 3, 5, 4, 5, 7, 8, 3], [6, 4, 3, 5, 4, 7, 5, 3, 8], [6, 4, 3, 5, 4, 7, 5, 8, 3], [6, 4, 3, 5, 4, 7, 8, 5, 3], [6, 4, 3, 5, 7, 4, 5, 3, 8], [6, 4, 3, 5, 7, 4, 5, 8, 3], [6, 4, 3, 5, 7, 4, 8, 5, 3], [6, 4, 3, 5, 7, 8, 4, 5, 3]]\n",
      "2\n"
     ]
    },
    {
     "data": {
      "text/plain": [
       "[[6, 4, 3, 5, 7, 8],\n",
       " [6, 4, 3, 7, 5, 8],\n",
       " [6, 4, 3, 7, 8, 5],\n",
       " [6, 4, 7, 3, 5, 8],\n",
       " [6, 4, 7, 3, 8, 5],\n",
       " [6, 4, 7, 8, 3, 5],\n",
       " [6, 7, 4, 3, 5, 8],\n",
       " [6, 7, 4, 3, 8, 5],\n",
       " [6, 7, 4, 8, 3, 5],\n",
       " [6, 7, 8, 4, 3, 5],\n",
       " [6, 4, 3, 5, 4, 5, 3, 7, 8],\n",
       " [6, 4, 3, 5, 4, 5, 7, 3, 8],\n",
       " [6, 4, 3, 5, 4, 5, 7, 8, 3],\n",
       " [6, 4, 3, 5, 4, 7, 5, 3, 8],\n",
       " [6, 4, 3, 5, 4, 7, 5, 8, 3],\n",
       " [6, 4, 3, 5, 4, 7, 8, 5, 3],\n",
       " [6, 4, 3, 5, 7, 4, 5, 3, 8],\n",
       " [6, 4, 3, 5, 7, 4, 5, 8, 3],\n",
       " [6, 4, 3, 5, 7, 4, 8, 5, 3],\n",
       " [6, 4, 3, 5, 7, 8, 4, 5, 3]]"
      ]
     },
     "execution_count": 352,
     "metadata": {},
     "output_type": "execute_result"
    }
   ],
   "source": [
    "def allSequences(node):\n",
    "    result = []\n",
    "    \n",
    "    if (node == None):\n",
    "        result.append([])\n",
    "        return result\n",
    "    \n",
    "    prefix = []\n",
    "    prefix.append(node.name)\n",
    "    \n",
    "    # recurse on left and right subtrees\n",
    "    leftSeq = allSequences(node.left)\n",
    "    rightSeq = allSequences(node.right)\n",
    "    \n",
    "    for left in leftSeq:\n",
    "        for right in rightSeq:\n",
    "            weaved = []\n",
    "            weaved = weaveLists(left, right, weaved, prefix)\n",
    "            result.extend(weaved)\n",
    "    return result\n",
    "\n",
    "def weaveLists(first, second, results, prefix):\n",
    "    if (len(first) == 0 or len(second) == 0):\n",
    "        result = list(prefix)\n",
    "        result.extend(first)\n",
    "        result.extend(second)\n",
    "        results.append(result)\n",
    "        return results\n",
    "    \n",
    "    print('1')\n",
    "    tmpFirst = first[1:]\n",
    "    prefix.append(first[0])\n",
    "    print(tmpFirst, second, results, prefix)\n",
    "    tmpPrefix = list(prefix)\n",
    "    results = weaveLists(tmpFirst, second, results, prefix)\n",
    "    print(results)\n",
    "    prefix = tmpPrefix[:(len(tmpPrefix)-1)]\n",
    "    \n",
    "    tmpSecond = second[1:]\n",
    "    prefix.append(second[0])\n",
    "    print(first, tmpSecond, results, prefix)\n",
    "    tmpPrefix = list(prefix)\n",
    "    results = weaveLists(first, tmpSecond, results, prefix)\n",
    "    print(results)\n",
    "    prefix = tmpPrefix[:(len(tmpPrefix)-1)]\n",
    "    print('2')\n",
    "    \n",
    "    return results\n",
    "\n",
    "n93 = Node(3)\n",
    "n95 = Node(5)\n",
    "n98 = Node(8)\n",
    "n94 = Node(4, n93, n95)\n",
    "n97 = Node(7, None, n98)\n",
    "n96 = Node(6, n94, n97)\n",
    "\n",
    "allSequences(n96)"
   ]
  },
  {
   "cell_type": "code",
   "execution_count": 336,
   "metadata": {},
   "outputs": [
    {
     "name": "stdout",
     "output_type": "stream",
     "text": [
      "[[3]]\n"
     ]
    }
   ],
   "source": [
    "a = []\n",
    "a.extend([[3]])\n",
    "print(a)"
   ]
  },
  {
   "cell_type": "code",
   "execution_count": 359,
   "metadata": {},
   "outputs": [
    {
     "name": "stdout",
     "output_type": "stream",
     "text": [
      "[1, 2, 3]\n",
      "[1, 2, 3, 4]\n",
      "[10, 2, 3, 4]\n",
      "[10, 2, 3, 4]\n"
     ]
    }
   ],
   "source": [
    "c = [1,2,3,4]\n",
    "d = c\n",
    "c = c[0:3]\n"
   ]
  },
  {
   "cell_type": "code",
   "execution_count": 29,
   "metadata": {},
   "outputs": [
    {
     "name": "stdout",
     "output_type": "stream",
     "text": [
      "5\n",
      "[3] 0x104a6da08\n",
      "5\n",
      "[4] 0x104a6d908\n",
      "5\n",
      "[7] 0x104a50d88\n",
      "1\n",
      "[3] [7] [] [6, 4]\n",
      "3\n",
      "[6, 4] 0x104a59448\n",
      "1\n",
      "[] [7] [] [6, 4, 3]\n",
      "3\n",
      "[6, 4, 3] 0x104a59448\n",
      "5\n",
      "[6, 4, 3] 0x104a59448\n",
      "[6, 4, 3] 0x104a59448\n",
      "4\n",
      "[[6, 4, 3, 7]]\n",
      "\n",
      "[6, 4, 3] 0x104a59448\n",
      "[6, 4] 0x104a6d988\n",
      "[3] [] [[6, 4, 3, 7]] [6, 4, 7]\n",
      "5\n",
      "[6, 4, 7] 0x104a6d988\n",
      "[[6, 4, 3, 7], [6, 4, 7, 3]]\n",
      "[6, 4, 7] 0x104a6d988\n",
      "[6, 4] 0x104a50d88\n",
      "2\n",
      "[6, 4] 0x104a50d88\n",
      "4\n",
      "[[6, 4, 3, 7], [6, 4, 7, 3]]\n",
      "\n",
      "[6, 4] 0x104a50d88\n",
      "[6] 0x104a6d988\n",
      "[4, 3] [] [[6, 4, 3, 7], [6, 4, 7, 3]] [6, 7]\n",
      "5\n",
      "[6, 7] 0x104a6d988\n",
      "[[6, 4, 3, 7], [6, 4, 7, 3], [6, 7, 4, 3]]\n",
      "[6, 7] 0x104a6d988\n",
      "[6] 0x104a50108\n",
      "2\n"
     ]
    },
    {
     "data": {
      "text/plain": [
       "[[6, 4, 3, 7], [6, 4, 7, 3], [6, 7, 4, 3]]"
      ]
     },
     "execution_count": 29,
     "metadata": {},
     "output_type": "execute_result"
    }
   ],
   "source": [
    "def allSequences(node):\n",
    "    result = []\n",
    "    \n",
    "    if (node == None):\n",
    "        result.append([])\n",
    "        return result\n",
    "    \n",
    "    prefix = []\n",
    "    prefix.append(node.name)\n",
    "    \n",
    "    # recurse on left and right subtrees\n",
    "    leftSeq = allSequences(node.left)\n",
    "    rightSeq = allSequences(node.right)\n",
    "    \n",
    "    for left in leftSeq:\n",
    "        for right in rightSeq:\n",
    "            weaved = []\n",
    "            [weaved, prefix] = weaveLists(left, right, weaved, prefix)\n",
    "            result.extend(weaved)\n",
    "    return result\n",
    "\n",
    "def weaveLists(first, second, results, prefix):\n",
    "    if (len(first) == 0 or len(second) == 0):\n",
    "        result = list(prefix)\n",
    "        result.extend(first)\n",
    "        result.extend(second)\n",
    "        results.append(result)\n",
    "        print('5')\n",
    "        print(prefix, hex(id(prefix)))\n",
    "        return [results, prefix]\n",
    "    \n",
    "    print('1')\n",
    "    tmpFirst = first[1:]\n",
    "    prefix += [first[0]]\n",
    "    print(tmpFirst, second, results, prefix)\n",
    "    print('3')\n",
    "    print(prefix, hex(id(prefix)))\n",
    "    [results, prefix] = weaveLists(tmpFirst, second, results, prefix)\n",
    "    print(prefix, hex(id(prefix)))\n",
    "    print('4')\n",
    "    print(results)\n",
    "    print()\n",
    "    print(prefix, hex(id(prefix)))\n",
    "    prefix = prefix[:(len(prefix)-1)]\n",
    "    print(prefix, hex(id(prefix)))\n",
    "    \n",
    "    tmpSecond = second[1:]\n",
    "    prefix += [second[0]]\n",
    "    print(first, tmpSecond, results, prefix)\n",
    "    [results, prefix] = weaveLists(first, tmpSecond, results, prefix)\n",
    "    print(results)\n",
    "    print(prefix, hex(id(prefix)))\n",
    "    prefix = prefix[:(len(prefix)-1)]\n",
    "    print(prefix, hex(id(prefix)))\n",
    "    print('2')\n",
    "    \n",
    "    return [results, prefix]\n",
    "\n",
    "n93 = Node(3)\n",
    "n94 = Node(4, n93)\n",
    "n97 = Node(7)\n",
    "n96 = Node(6, n94, n97)\n",
    "\n",
    "allSequences(n96)"
   ]
  },
  {
   "cell_type": "code",
   "execution_count": 20,
   "metadata": {},
   "outputs": [
    {
     "data": {
      "text/plain": [
       "[[6, 4, 3, 7], [6, 7, 4, 3]]"
      ]
     },
     "execution_count": 20,
     "metadata": {},
     "output_type": "execute_result"
    }
   ],
   "source": [
    "def BST_seq(root):\n",
    "    def recur(node):\n",
    "        if node == None:\n",
    "            return [[]]\n",
    "        else:\n",
    "            res_left = recur(node.left)\n",
    "            res_right = recur(node.right)\n",
    "            res = []\n",
    "            for l1 in res_left:\n",
    "                for l2 in res_right:\n",
    "                    if l1 == [] and l2 == []:\n",
    "                        res.append([node.name])\n",
    "                    elif l1 == [] or l2 == []:\n",
    "                        res.append([node.name] + l1 + l2)\n",
    "                    else:\n",
    "                        res.append([node.name] + l1 + l2)\n",
    "                        res.append([node.name] + l2 + l1)\n",
    "            return res\n",
    "    return recur(root)\n",
    "\n",
    "n93 = Node(3)\n",
    "n94 = Node(4, n93)\n",
    "n97 = Node(7)\n",
    "n96 = Node(6, n94, n97)\n",
    "\n",
    "BST_seq(n96)"
   ]
  },
  {
   "cell_type": "code",
   "execution_count": 57,
   "metadata": {},
   "outputs": [
    {
     "data": {
      "text/plain": [
       "[[6, 4, 3, 5, 7, 8],\n",
       " [6, 4, 3, 7, 5, 8],\n",
       " [6, 4, 3, 7, 8, 5],\n",
       " [6, 4, 7, 3, 5, 8],\n",
       " [6, 4, 7, 3, 8, 5],\n",
       " [6, 4, 7, 8, 3, 5],\n",
       " [6, 7, 4, 3, 5, 8],\n",
       " [6, 7, 4, 3, 8, 5],\n",
       " [6, 7, 4, 8, 3, 5],\n",
       " [6, 7, 8, 4, 3, 5],\n",
       " [6, 4, 5, 3, 7, 8],\n",
       " [6, 4, 5, 7, 3, 8],\n",
       " [6, 4, 5, 7, 8, 3],\n",
       " [6, 4, 7, 5, 3, 8],\n",
       " [6, 4, 7, 5, 8, 3],\n",
       " [6, 4, 7, 8, 5, 3],\n",
       " [6, 7, 4, 5, 3, 8],\n",
       " [6, 7, 4, 5, 8, 3],\n",
       " [6, 7, 4, 8, 5, 3],\n",
       " [6, 7, 8, 4, 5, 3]]"
      ]
     },
     "execution_count": 57,
     "metadata": {},
     "output_type": "execute_result"
    }
   ],
   "source": [
    "# THIS IS THE CORRECT SOLUTION\n",
    "# use pop(), change in the same memory location\n",
    "# if use prelist[:(len(prelist)-1)], it changes the address, thus, the outer level will use the latest (the longest) prelist\n",
    "\n",
    "def allSequences(node):\n",
    "    result = []\n",
    "    \n",
    "    if (node == None):\n",
    "        result.append([])\n",
    "        return result\n",
    "    \n",
    "    prefix = []\n",
    "    prefix.append(node.name)\n",
    "    \n",
    "    # recurse on left and right subtrees\n",
    "    leftSeq = allSequences(node.left)\n",
    "    rightSeq = allSequences(node.right)\n",
    "    \n",
    "    for left in leftSeq:\n",
    "        for right in rightSeq:\n",
    "            weaved = []\n",
    "            weaved = weaveLists(left, right, weaved, prefix)\n",
    "            result.extend(weaved)\n",
    "    return result\n",
    "\n",
    "def weaveLists(first, second, results, prefix):\n",
    "    if (len(first) == 0 or len(second) == 0):\n",
    "        result = list(prefix)\n",
    "        result.extend(first)\n",
    "        result.extend(second)\n",
    "        results.append(result)\n",
    "        return results\n",
    "    \n",
    "    tmpFirst = first[1:]\n",
    "    prefix.append(first[0])\n",
    "    tmpPrefix = list(prefix)\n",
    "    results = weaveLists(tmpFirst, second, results, prefix)\n",
    "    prefix.pop()\n",
    "    \n",
    "    tmpSecond = second[1:]\n",
    "    prefix.append(second[0])\n",
    "    tmpPrefix = list(prefix)\n",
    "    results = weaveLists(first, tmpSecond, results, prefix)\n",
    "    prefix.pop()\n",
    "    \n",
    "    return results\n",
    "\n",
    "n93 = Node(3)\n",
    "n95 = Node(5)\n",
    "n98 = Node(8)\n",
    "n94 = Node(4, n93, n95)\n",
    "n97 = Node(7, None, n98)\n",
    "n96 = Node(6, n94, n97)\n",
    "\n",
    "allSequences(n96)"
   ]
  },
  {
   "cell_type": "markdown",
   "metadata": {},
   "source": [
    "## 3.10 Check Subtree"
   ]
  },
  {
   "cell_type": "code",
   "execution_count": 63,
   "metadata": {},
   "outputs": [
    {
     "name": "stdout",
     "output_type": "stream",
     "text": [
      "True\n",
      "False\n",
      "True\n"
     ]
    }
   ],
   "source": [
    "def containsTree(t1, t2):\n",
    "    string1 = getOrderString(t1, '')\n",
    "    string2 = getOrderString(t2, '')\n",
    "    \n",
    "    return string2 in string1\n",
    "\n",
    "def getOrderString(node, string):\n",
    "    if (node == None):\n",
    "        string += 'X'\n",
    "        return string\n",
    "    \n",
    "    string += str(node.name)\n",
    "    string = getOrderString(node.left, string)\n",
    "    string = getOrderString(node.right, string)\n",
    "    return string\n",
    "\n",
    "\n",
    "n104 = Node(4)\n",
    "n102 = Node(2, n104)\n",
    "n103 = Node(3)\n",
    "n101 = Node(1, n102, n103)\n",
    "n105 = Node(5)\n",
    "\n",
    "print(containsTree(n101, n103))\n",
    "print(containsTree(n101, n105))\n",
    "\n",
    "n104p = Node(4)\n",
    "n102p = Node(2, n104p)\n",
    "print(containsTree(n101, n102p))"
   ]
  },
  {
   "cell_type": "code",
   "execution_count": 69,
   "metadata": {},
   "outputs": [
    {
     "name": "stdout",
     "output_type": "stream",
     "text": [
      "True\n"
     ]
    }
   ],
   "source": [
    "def containsTree2(t1, t2):\n",
    "    if (t2 == None):\n",
    "        return True\n",
    "    return subTree(t1, t2)\n",
    "\n",
    "def subTree(r1, r2):\n",
    "    if (r1 == None):\n",
    "        return False\n",
    "    elif (r1.name == r2.name and matchTree(r1, r2)):\n",
    "        return True\n",
    "    return subTree(r1.left, r2) or subTree(r1.right, r2)\n",
    "\n",
    "def matchTree(r1, r2):\n",
    "    if (r1 == None and r2 == None):\n",
    "        return True\n",
    "    elif (r1 == None or r2 == None):\n",
    "        return False\n",
    "    elif (r1.name != r2.name):\n",
    "        return False\n",
    "    else:\n",
    "        return matchTree(r1.left, r2.left) and matchTree(r1.right, r2.right)\n",
    "    \n",
    "    \n",
    "print(containsTree2(n102, n104))"
   ]
  },
  {
   "cell_type": "markdown",
   "metadata": {},
   "source": [
    "## 4.11 Random Node"
   ]
  },
  {
   "cell_type": "code",
   "execution_count": 113,
   "metadata": {},
   "outputs": [
    {
     "name": "stdout",
     "output_type": "stream",
     "text": [
      "3 :  0.1006\n",
      "5 :  0.1024\n",
      "7 :  0.1012\n",
      "10 :  0.1\n",
      "15 :  0.0986\n",
      "17 :  0.0986\n",
      "20 :  0.0961\n",
      "30 :  0.1006\n",
      "33 :  0.1012\n",
      "35 :  0.1007\n"
     ]
    }
   ],
   "source": [
    "class TreeNode:\n",
    "    def __init__(self, data):\n",
    "        self.data = data\n",
    "        self.left = None\n",
    "        self.right = None\n",
    "        self.size = 1\n",
    "        \n",
    "    def getRandomNode(self):\n",
    "        leftSize = 0 if self.left == None else self.left.size\n",
    "        index = random.randint(1, self.size)\n",
    "        if (index <= leftSize):\n",
    "            return self.left.getRandomNode()\n",
    "        elif (index == leftSize+1):\n",
    "            return self\n",
    "        else:\n",
    "            return self.right.getRandomNode()\n",
    "        \n",
    "    def insertInOrder(self, d):\n",
    "        if (d <= self.data):\n",
    "            if (self.left == None):\n",
    "                self.left = TreeNode(d)\n",
    "            else:\n",
    "                self.left.insertInOrder(d)\n",
    "        else:\n",
    "            if (self.right == None):\n",
    "                self.right = TreeNode(d)\n",
    "            else:\n",
    "                self.right.insertInOrder(d)\n",
    "        self.size += 1\n",
    "        \n",
    "    def find(self, d):\n",
    "        if (d == self.data):\n",
    "            return self\n",
    "        elif (d < self.data):\n",
    "            return self.left.find(d) if self.left != None else None\n",
    "        elif (d > self.data):\n",
    "            return self.right.find(d) if self.right != None else None\n",
    "        return None\n",
    "    \n",
    "n11_20 = TreeNode(20)\n",
    "n11_20.insertInOrder(10)\n",
    "n11_20.insertInOrder(30)\n",
    "n11_20.insertInOrder(5)\n",
    "n11_20.insertInOrder(15)\n",
    "n11_20.insertInOrder(35)\n",
    "n11_20.insertInOrder(3)\n",
    "n11_20.insertInOrder(7)\n",
    "n11_20.insertInOrder(17)\n",
    "n11_20.insertInOrder(33)\n",
    "\n",
    "results = []\n",
    "for i in range(10000):\n",
    "    results.append(n11_20.getRandomNode().data)\n",
    "    \n",
    "for n in [3,5,7,10,15,17,20,30,33,35]:\n",
    "    prob = results.count(n) / 10000\n",
    "    print(str(n), ': ', prob)"
   ]
  },
  {
   "cell_type": "code",
   "execution_count": 115,
   "metadata": {},
   "outputs": [
    {
     "name": "stdout",
     "output_type": "stream",
     "text": [
      "3 :  0.0998\n",
      "5 :  0.0985\n",
      "7 :  0.0977\n",
      "10 :  0.1047\n",
      "15 :  0.1017\n",
      "17 :  0.1053\n",
      "20 :  0.1004\n",
      "30 :  0.0998\n",
      "33 :  0.0958\n",
      "35 :  0.0963\n"
     ]
    }
   ],
   "source": [
    "class TreeNode2:\n",
    "    def __init__(self, data):\n",
    "        self.data = data\n",
    "        self.left = None\n",
    "        self.right = None\n",
    "        self.size = 1\n",
    "    \n",
    "    def getIthNode(self, i):\n",
    "        leftSize = 0 if self.left == None else self.left.size\n",
    "        if (i <= leftSize):\n",
    "            return self.left.getIthNode(i)\n",
    "        elif (i == leftSize+1):\n",
    "            return self\n",
    "        else:\n",
    "            return self.right.getIthNode(i - (leftSize+1))\n",
    "        \n",
    "    def insertInOrder(self, d):\n",
    "        if (d <= self.data):\n",
    "            if (self.left == None):\n",
    "                self.left = TreeNode2(d)\n",
    "            else:\n",
    "                self.left.insertInOrder(d)\n",
    "        else:\n",
    "            if (self.right == None):\n",
    "                self.right = TreeNode2(d)\n",
    "            else:\n",
    "                self.right.insertInOrder(d)\n",
    "        self.size += 1\n",
    "        \n",
    "    def find(self, d):\n",
    "        if (d == self.data):\n",
    "            return self\n",
    "        elif (d < self.data):\n",
    "            return self.left.find(d) if self.left != None else None\n",
    "        elif (d > self.data):\n",
    "            return self.right.find(d) if self.right != None else None\n",
    "        return None\n",
    "    \n",
    "class Tree:\n",
    "    def __init__(self):\n",
    "        self.root = None\n",
    "        \n",
    "    def size(self):\n",
    "        return 0 if self.root == None else self.root.size\n",
    "    \n",
    "    def getRandomNode(self):\n",
    "        if (self.root == None):\n",
    "            return None\n",
    "        \n",
    "        i = random.randint(1, self.size())\n",
    "        return self.root.getIthNode(i)\n",
    "    \n",
    "    def insertInOrder(self, value):\n",
    "        if (self.root == None):\n",
    "            self.root = TreeNode2(value)\n",
    "        else:\n",
    "            self.root.insertInOrder(value)\n",
    "            \n",
    "\n",
    "tree11 = Tree()\n",
    "tree11.insertInOrder(20)\n",
    "tree11.insertInOrder(10)\n",
    "tree11.insertInOrder(30)\n",
    "tree11.insertInOrder(5)\n",
    "tree11.insertInOrder(15)\n",
    "tree11.insertInOrder(35)\n",
    "tree11.insertInOrder(3)\n",
    "tree11.insertInOrder(7)\n",
    "tree11.insertInOrder(17)\n",
    "tree11.insertInOrder(33)\n",
    "\n",
    "results = []\n",
    "for i in range(10000):\n",
    "    results.append(tree11.getRandomNode().data)\n",
    "    \n",
    "for n in [3,5,7,10,15,17,20,30,33,35]:\n",
    "    prob = results.count(n) / 10000\n",
    "    print(str(n), ': ', prob)\n"
   ]
  },
  {
   "cell_type": "markdown",
   "metadata": {},
   "source": [
    "## 4.12 Paths with Sum"
   ]
  },
  {
   "cell_type": "code",
   "execution_count": 125,
   "metadata": {},
   "outputs": [
    {
     "name": "stdout",
     "output_type": "stream",
     "text": [
      "2\n"
     ]
    }
   ],
   "source": [
    "# brute force\n",
    "\n",
    "def countPathsWithSum(root, targetSum):\n",
    "    if (root == None):\n",
    "        return 0\n",
    "    \n",
    "    pathsFromRoot = countPathsWithSumFromNode(root, targetSum, 0)\n",
    "    \n",
    "    pathsOnLeft = countPathsWithSum(root.left, targetSum)\n",
    "    pathsOnRight = countPathsWithSum(root.right, targetSum)\n",
    "    \n",
    "    return pathsFromRoot + pathsOnLeft + pathsOnRight\n",
    "\n",
    "def countPathsWithSumFromNode(node, targetSum, currentSum):\n",
    "    if (node == None):\n",
    "        return 0\n",
    "    \n",
    "    currentSum += node.name\n",
    "    \n",
    "    totalPaths = 0\n",
    "    if (currentSum == targetSum):\n",
    "        totalPaths += 1\n",
    "        \n",
    "    totalPaths += countPathsWithSumFromNode(node.left, targetSum, currentSum)\n",
    "    totalPaths += countPathsWithSumFromNode(node.right, targetSum, currentSum)\n",
    "    return totalPaths\n",
    "\n",
    "n12_1 = Node(3)\n",
    "n12_2 = Node(-2)\n",
    "n12_3 = Node(1)\n",
    "n12_4 = Node(3, n12_1, n12_2)\n",
    "n12_5 = Node(2, None, n12_3)\n",
    "n12_6 = Node(11)\n",
    "n12_7 = Node(5, n12_4, n12_5)\n",
    "n12_8 = Node(-3, None, n12_6)\n",
    "n12_9 = Node(10, n12_7, n12_8)\n",
    "\n",
    "print(countPathsWithSum(n12_9, 1))"
   ]
  },
  {
   "cell_type": "code",
   "execution_count": 146,
   "metadata": {},
   "outputs": [
    {
     "data": {
      "text/plain": [
       "3"
      ]
     },
     "execution_count": 146,
     "metadata": {},
     "output_type": "execute_result"
    }
   ],
   "source": [
    "def countPathsWithSum2(root, targetSum):\n",
    "    return countPathsWithSum3(root, targetSum, 0, {})\n",
    "\n",
    "def countPathsWithSum3(node, targetSum, runningSum, pathCount):\n",
    "    if (node == None):\n",
    "        return 0\n",
    "    \n",
    "    runningSum += node.name  # running sum, from the root, for current node\n",
    "    sum = runningSum - targetSum\n",
    "    totalPaths = pathCount.get(sum, 0)  # how many existing satisfies node\n",
    "    \n",
    "    if (runningSum == targetSum):  # root to self passes\n",
    "        totalPaths += 1\n",
    "        \n",
    "    incrementHashTable(pathCount, runningSum, 1)\n",
    "    totalPaths += countPathsWithSum3(node.left, targetSum, runningSum, pathCount)\n",
    "    totalPaths += countPathsWithSum3(node.right, targetSum, runningSum, pathCount)\n",
    "    incrementHashTable(pathCount, runningSum, -1)\n",
    "    \n",
    "    return totalPaths\n",
    "\n",
    "def incrementHashTable(hashTable, key, delta):\n",
    "    newCount = hashTable.get(key, 0) + delta\n",
    "    if (newCount == 0):\n",
    "        del hashTable[key]\n",
    "    else:\n",
    "        hashTable[key] = newCount\n",
    "        \n",
    "countPathsWithSum2(n12_9, 8)"
   ]
  },
  {
   "cell_type": "code",
   "execution_count": null,
   "metadata": {
    "collapsed": true
   },
   "outputs": [],
   "source": []
  }
 ],
 "metadata": {
  "anaconda-cloud": {},
  "kernelspec": {
   "display_name": "Python 3",
   "language": "python",
   "name": "python3"
  },
  "language_info": {
   "codemirror_mode": {
    "name": "ipython",
    "version": 3
   },
   "file_extension": ".py",
   "mimetype": "text/x-python",
   "name": "python",
   "nbconvert_exporter": "python",
   "pygments_lexer": "ipython3",
   "version": "3.5.2"
  }
 },
 "nbformat": 4,
 "nbformat_minor": 1
}

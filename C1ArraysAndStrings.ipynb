{
 "cells": [
  {
   "cell_type": "markdown",
   "metadata": {
    "collapsed": true
   },
   "source": [
    "# Chapter 1 Arrays and Strings"
   ]
  },
  {
   "cell_type": "markdown",
   "metadata": {},
   "source": [
    "## import packages"
   ]
  },
  {
   "cell_type": "code",
   "execution_count": null,
   "metadata": {
    "collapsed": true
   },
   "outputs": [],
   "source": [
    "import math"
   ]
  },
  {
   "cell_type": "markdown",
   "metadata": {},
   "source": [
    "## 1.1 Is Unique"
   ]
  },
  {
   "cell_type": "code",
   "execution_count": 108,
   "metadata": {
    "collapsed": false
   },
   "outputs": [
    {
     "data": {
      "text/plain": [
       "True"
      ]
     },
     "execution_count": 108,
     "metadata": {},
     "output_type": "execute_result"
    }
   ],
   "source": [
    "def isUnique(str0):\n",
    "    if (len(str0) > 128):\n",
    "        return false\n",
    "    \n",
    "    char_set = [False] * 128\n",
    "    for char in str0:\n",
    "        if (char_set[ord(char)]):\n",
    "            return False\n",
    "        char_set[ord(char)] = True\n",
    "    return True\n",
    "\n",
    "test = \"asfgdv\"\n",
    "isUnique(test)"
   ]
  },
  {
   "cell_type": "markdown",
   "metadata": {},
   "source": [
    "## 1.2 Check Permutation"
   ]
  },
  {
   "cell_type": "code",
   "execution_count": 73,
   "metadata": {
    "collapsed": false
   },
   "outputs": [
    {
     "data": {
      "text/plain": [
       "True"
      ]
     },
     "execution_count": 73,
     "metadata": {},
     "output_type": "execute_result"
    }
   ],
   "source": [
    "def checkPermutation(str1, str2):\n",
    "    if (len(str1) != len(str2)):\n",
    "        return False\n",
    "    \n",
    "    char_set = [0] * 128\n",
    "    for char in str1:\n",
    "        char_set[ord(char)] += 1\n",
    "    for char in str2:\n",
    "        char_set[ord(char)] -= 1\n",
    "        if (char_set[ord(char)] < 0):\n",
    "            return False\n",
    "    return True\n",
    "\n",
    "test1 = \"a bc\"\n",
    "test2 = \"bca \"\n",
    "checkPermutation(test1, test2)"
   ]
  },
  {
   "cell_type": "markdown",
   "metadata": {},
   "source": [
    "## 1.3 URLify"
   ]
  },
  {
   "cell_type": "code",
   "execution_count": 109,
   "metadata": {
    "collapsed": false
   },
   "outputs": [
    {
     "data": {
      "text/plain": [
       "'Mr%20Ziwen%20Jin'"
      ]
     },
     "execution_count": 109,
     "metadata": {},
     "output_type": "execute_result"
    }
   ],
   "source": [
    "def URLify(str0, true_length):\n",
    "    space_count = 0\n",
    "    for char in str0:\n",
    "        if (char == ' '):\n",
    "            space_count += 1\n",
    "    index = true_length + space_count * 2\n",
    "    \n",
    "    str0 = str0.rstrip()\n",
    "    new_str = []\n",
    "    for char in str0:\n",
    "        if (char == ' '):\n",
    "            new_str.append('%20')\n",
    "        else:\n",
    "            new_str.append(char)\n",
    "    str0 = ''.join(new_str)\n",
    "    return str0\n",
    "\n",
    "test = 'Mr Ziwen Jin   '\n",
    "URLify(test, 11)"
   ]
  },
  {
   "cell_type": "markdown",
   "metadata": {},
   "source": [
    "## 1.4 Palindrome Permutation"
   ]
  },
  {
   "cell_type": "code",
   "execution_count": 173,
   "metadata": {
    "collapsed": false
   },
   "outputs": [
    {
     "data": {
      "text/plain": [
       "True"
      ]
     },
     "execution_count": 173,
     "metadata": {},
     "output_type": "execute_result"
    }
   ],
   "source": [
    "def isPalin(str0):\n",
    "    a = ord('a')\n",
    "    z = ord('z')\n",
    "    A = ord('A')\n",
    "    Z = ord('Z')\n",
    "    char_set = [0] * 26\n",
    "    \n",
    "    for char in str0:\n",
    "        c = ord(char)\n",
    "        if ((c >= a) and (c <= z)):\n",
    "            char_set[c - a] += 1\n",
    "        elif ((c >= A) and (c <= Z)):\n",
    "            char_set[c - A] += 1\n",
    "    \n",
    "    first_odd = False\n",
    "    for num in char_set:\n",
    "        if (num % 2 == 1):\n",
    "            if (first_odd):\n",
    "                return False\n",
    "            else:\n",
    "                first_odd = True\n",
    "    return True\n",
    "\n",
    "def isPalin2(str0):\n",
    "    a = ord('a')\n",
    "    z = ord('z')\n",
    "    A = ord('A')\n",
    "    Z = ord('Z')\n",
    "    char_set = [0] * 26\n",
    "    \n",
    "    for char in str0:\n",
    "        c = ord(char)\n",
    "        if ((c >= a) and (c <= z)):\n",
    "            if (char_set[c - a] == 0):\n",
    "                char_set[c - a] += 1\n",
    "            else:\n",
    "                char_set[c - a] -= 1\n",
    "        elif ((c >= A) and (c <= Z)):\n",
    "            if (char_set[c - A] == 0):\n",
    "                char_set[c - A] += 1\n",
    "            else:\n",
    "                char_set[c - A] -= 1\n",
    "                \n",
    "    char_set = map(str, char_set)\n",
    "    result = int(''.join(char_set), 2)  # convert binary list to int\n",
    "    return not(result & (result-1))\n",
    "    \n",
    "\n",
    "test = \"tact cao!\"\n",
    "isPalin2(test)"
   ]
  },
  {
   "cell_type": "markdown",
   "metadata": {},
   "source": [
    "## 1.5 One Away"
   ]
  },
  {
   "cell_type": "code",
   "execution_count": 189,
   "metadata": {
    "collapsed": false
   },
   "outputs": [
    {
     "data": {
      "text/plain": [
       "True"
      ]
     },
     "execution_count": 189,
     "metadata": {},
     "output_type": "execute_result"
    }
   ],
   "source": [
    "def isOneAway(str1, str2):\n",
    "    if (abs(len(str1) - len(str2)) > 1):\n",
    "        return False\n",
    "\n",
    "    # s1 the shorter, s2 the longer\n",
    "    s1 = str1 if len(str1) < len(str2) else str2\n",
    "    s2 = str2 if len(str1) < len(str2) else str1\n",
    "    \n",
    "    index1 = 0\n",
    "    index2 = 0\n",
    "    foundDiff = False\n",
    "    \n",
    "    while (index1 < len(s1) and index2 < len(s2)):\n",
    "        if (s1[index1] != s2[index2]):\n",
    "            if (foundDiff):\n",
    "                return False\n",
    "            foundDiff = True\n",
    "        \n",
    "            if (len(s1) == len(s2)):\n",
    "                index1 += 1\n",
    "        else:\n",
    "            index1 += 1\n",
    "            \n",
    "        index2 += 1\n",
    "        \n",
    "    return True\n",
    "\n",
    "test1 = 'plae'\n",
    "test2 = 'blae'\n",
    "isOneAway(test1, test2)"
   ]
  },
  {
   "cell_type": "markdown",
   "metadata": {},
   "source": [
    "## 1.6 String Compression"
   ]
  },
  {
   "cell_type": "code",
   "execution_count": 208,
   "metadata": {
    "collapsed": false
   },
   "outputs": [
    {
     "data": {
      "text/plain": [
       "'a3b4s1f2'"
      ]
     },
     "execution_count": 208,
     "metadata": {},
     "output_type": "execute_result"
    }
   ],
   "source": [
    "def stringCompression(str0):\n",
    "    if (len(str0) <= 2):\n",
    "        return str0\n",
    "    \n",
    "    start = str0[0]\n",
    "    count = 1\n",
    "    result = []\n",
    "    \n",
    "    for char in str0[1:]:\n",
    "        if char == start:\n",
    "            count += 1\n",
    "        else:\n",
    "            result.append(start + str(count))\n",
    "            start = char\n",
    "            count = 1\n",
    "    result.append(start + str(count))\n",
    "    \n",
    "    str1 = ''.join(result)\n",
    "    return str0 if len(str0) <= len(str1) else str1\n",
    "\n",
    "test = 'aaabbbbsff'\n",
    "stringCompression(test)"
   ]
  },
  {
   "cell_type": "markdown",
   "metadata": {},
   "source": [
    "## 1.7 Rotate Matrix"
   ]
  },
  {
   "cell_type": "code",
   "execution_count": 244,
   "metadata": {
    "collapsed": false
   },
   "outputs": [
    {
     "name": "stdout",
     "output_type": "stream",
     "text": [
      "[[7, 4, 1], [8, 5, 2], [9, 6, 3]]\n"
     ]
    }
   ],
   "source": [
    "# require O(n^2) space\n",
    "def rotateMatrix(matrix):\n",
    "    if (len(matrix) == 0):\n",
    "        return matrix\n",
    "    \n",
    "    row = len(matrix)\n",
    "    col = len(matrix[0])\n",
    "    result = [[0 for x in range(col)] for y in range(col)]\n",
    "    \n",
    "    for i in range(len(matrix)):\n",
    "        for j in range(len(matrix[0])):\n",
    "            result[i][j] = matrix[len(matrix) - 1 - j][i]\n",
    "            \n",
    "    return result\n",
    "\n",
    "# require O(1) space -> in place\n",
    "def rotateMatrix2(matrix):\n",
    "    if (len(matrix) == 0 or len(matrix) != len(matrix[0])):\n",
    "         return False\n",
    "\n",
    "    n = len(matrix)\n",
    "    for layer in range(math.floor(n/2)):\n",
    "        first = layer\n",
    "        last = n - 1 - layer\n",
    "        \n",
    "        for i in range(first, last):\n",
    "            top = matrix[first][i]\n",
    "            matrix[first][i] = matrix[n-1-i][first]\n",
    "            matrix[n-1-i][first] = matrix[last][n-1-i]\n",
    "            matrix[last][n-1-i] = matrix[i][last]\n",
    "            matrix[i][last] = top\n",
    "    \n",
    "    return True\n",
    "\n",
    "test = [[1, 2, 3], [4, 5, 6], [7, 8, 9]]\n",
    "rotateMatrix2(test)\n",
    "print(test)"
   ]
  },
  {
   "cell_type": "markdown",
   "metadata": {},
   "source": [
    "## 1.8 Zero Matrix"
   ]
  },
  {
   "cell_type": "code",
   "execution_count": 245,
   "metadata": {
    "collapsed": false
   },
   "outputs": [
    {
     "name": "stdout",
     "output_type": "stream",
     "text": [
      "[[0, 0, 0, 0], [5, 0, 7, 0], [5, 0, 7, 0], [0, 0, 0, 0]]\n"
     ]
    }
   ],
   "source": [
    "def zeroMatrix(matrix):\n",
    "    if (len(matrix) == 0):\n",
    "        return False\n",
    "    \n",
    "    M = len(matrix)\n",
    "    N = len(matrix[0])\n",
    "    \n",
    "    row = set()\n",
    "    col = set()\n",
    "    for i in range(M):\n",
    "        for j in range(N):\n",
    "            if (matrix[i][j] == 0):\n",
    "                row.add(i)\n",
    "                col.add(j)\n",
    "                \n",
    "    for r in row:\n",
    "        for j in range(N):\n",
    "            matrix[r][j] = 0\n",
    "    for c in col:\n",
    "        for i in range(M):\n",
    "            matrix[i][c] = 0\n",
    "    \n",
    "    return True\n",
    "\n",
    "test = [[1, 2, 3, 0], [5, 6, 7, 8], [5, 6, 7, 8], [5, 0, 7, 8]]\n",
    "zeroMatrix(test)\n",
    "print(test)"
   ]
  },
  {
   "cell_type": "markdown",
   "metadata": {},
   "source": [
    "## 1.9 String Rotation"
   ]
  },
  {
   "cell_type": "code",
   "execution_count": 250,
   "metadata": {
    "collapsed": false
   },
   "outputs": [
    {
     "data": {
      "text/plain": [
       "True"
      ]
     },
     "execution_count": 250,
     "metadata": {},
     "output_type": "execute_result"
    }
   ],
   "source": [
    "def isStringRotation(str1, str2):\n",
    "    if (len(str1) != len(str2)):\n",
    "        return False\n",
    "    \n",
    "    n = len(str1)\n",
    "    for i in range(n):\n",
    "        tmp = str1[i:] + str1[0:i]\n",
    "        if (tmp == str2):\n",
    "            return True\n",
    "    \n",
    "    return False\n",
    "\n",
    "def isStringRotation2(str1, str2):\n",
    "    if (len(str1) != len(str2)):\n",
    "        return False\n",
    "    \n",
    "    return isSubstring(str1+str1, str2)\n",
    "\n",
    "def isSubstring(str1, str2):\n",
    "    return str2 in str1\n",
    "\n",
    "test1 = 'water'\n",
    "test2 = 'terwa'\n",
    "isStringRotation2(test1, test2)"
   ]
  },
  {
   "cell_type": "code",
   "execution_count": null,
   "metadata": {
    "collapsed": false
   },
   "outputs": [],
   "source": []
  },
  {
   "cell_type": "code",
   "execution_count": null,
   "metadata": {
    "collapsed": true
   },
   "outputs": [],
   "source": []
  }
 ],
 "metadata": {
  "anaconda-cloud": {},
  "kernelspec": {
   "display_name": "Python [default]",
   "language": "python",
   "name": "python3"
  },
  "language_info": {
   "codemirror_mode": {
    "name": "ipython",
    "version": 3
   },
   "file_extension": ".py",
   "mimetype": "text/x-python",
   "name": "python",
   "nbconvert_exporter": "python",
   "pygments_lexer": "ipython3",
   "version": "3.5.2"
  }
 },
 "nbformat": 4,
 "nbformat_minor": 1
}

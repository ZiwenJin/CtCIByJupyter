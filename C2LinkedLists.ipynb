{
 "cells": [
  {
   "cell_type": "markdown",
   "metadata": {},
   "source": [
    "# Chapter 2 Linked Lists"
   ]
  },
  {
   "cell_type": "markdown",
   "metadata": {},
   "source": [
    "## import packages"
   ]
  },
  {
   "cell_type": "code",
   "execution_count": null,
   "metadata": {
    "collapsed": true
   },
   "outputs": [],
   "source": []
  },
  {
   "cell_type": "code",
   "execution_count": 4,
   "metadata": {
    "collapsed": false
   },
   "outputs": [],
   "source": [
    "# class in Python?\n"
   ]
  },
  {
   "cell_type": "code",
   "execution_count": 49,
   "metadata": {
    "collapsed": false
   },
   "outputs": [
    {
     "name": "stdout",
     "output_type": "stream",
     "text": [
      "[1, 2, 3]\n"
     ]
    }
   ],
   "source": [
    "def deleteNode(lis, d):\n",
    "    if (lis[0] == d):\n",
    "        return a[1:]\n",
    "\n",
    "    n = len(lis)\n",
    "    for i in range(n-1):\n",
    "        if (lis[i+1] == d):\n",
    "            tmp = lis[:i+1]\n",
    "            tmp.extend(lis[i+2:])\n",
    "            return tmp\n",
    "    \n",
    "    return lis[:n-1]\n",
    "\n",
    "a = [1,2,3,4]\n",
    "d = 6\n",
    "print(deleteNode(a, d))"
   ]
  },
  {
   "cell_type": "markdown",
   "metadata": {},
   "source": [
    "## 2.1 Remove Dups"
   ]
  },
  {
   "cell_type": "code",
   "execution_count": 53,
   "metadata": {
    "collapsed": false
   },
   "outputs": [
    {
     "data": {
      "text/plain": [
       "['a', 'b', 'e', 'f', 'g', 'c', 'd']"
      ]
     },
     "execution_count": 53,
     "metadata": {},
     "output_type": "execute_result"
    }
   ],
   "source": [
    "# with tmp buffer\n",
    "def removeDups(str0):\n",
    "    n = len(str0)\n",
    "    if (n <= 1):\n",
    "        return str0\n",
    "    \n",
    "    tmpBuffer = []\n",
    "    for i in range(n):\n",
    "        if (str0[i] not in tmpBuffer):\n",
    "            tmpBuffer.append(str0[i])\n",
    "    \n",
    "    return tmpBuffer\n",
    "\n",
    "# without tmp buffer\n",
    "def removeDups2(str0):\n",
    "    n = len(str0)\n",
    "    if (n <= 1):\n",
    "        return str0\n",
    "    \n",
    "    for i in range(n):\n",
    "        for j in range(1:n):\n",
    "\n",
    "test = 'abefgabcd'\n",
    "removeDups(test)"
   ]
  },
  {
   "cell_type": "code",
   "execution_count": 66,
   "metadata": {
    "collapsed": false
   },
   "outputs": [
    {
     "data": {
      "text/plain": [
       "False"
      ]
     },
     "execution_count": 66,
     "metadata": {},
     "output_type": "execute_result"
    }
   ],
   "source": [
    "a=[2,3,2]\n",
    "a.remove(2)\n",
    "a[1] == None"
   ]
  },
  {
   "cell_type": "code",
   "execution_count": null,
   "metadata": {
    "collapsed": true
   },
   "outputs": [],
   "source": []
  }
 ],
 "metadata": {
  "anaconda-cloud": {},
  "kernelspec": {
   "display_name": "Python [default]",
   "language": "python",
   "name": "python3"
  },
  "language_info": {
   "codemirror_mode": {
    "name": "ipython",
    "version": 3
   },
   "file_extension": ".py",
   "mimetype": "text/x-python",
   "name": "python",
   "nbconvert_exporter": "python",
   "pygments_lexer": "ipython3",
   "version": "3.5.2"
  }
 },
 "nbformat": 4,
 "nbformat_minor": 1
}

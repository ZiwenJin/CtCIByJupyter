{
 "cells": [
  {
   "cell_type": "markdown",
   "metadata": {},
   "source": [
    "# Chapter 2 Linked Lists"
   ]
  },
  {
   "cell_type": "markdown",
   "metadata": {},
   "source": [
    "## import packages"
   ]
  },
  {
   "cell_type": "code",
   "execution_count": 1,
   "metadata": {},
   "outputs": [],
   "source": [
    "from random import randint"
   ]
  },
  {
   "cell_type": "markdown",
   "metadata": {},
   "source": [
    "## 2.0 Data Structures"
   ]
  },
  {
   "cell_type": "code",
   "execution_count": 2,
   "metadata": {
    "scrolled": true
   },
   "outputs": [],
   "source": [
    "class Node:\n",
    "    def __init__(self, value, next=None):\n",
    "        self.value = value\n",
    "        self.next = next\n",
    "        \n",
    "    def __str__(self):\n",
    "        return str(self.value)\n",
    "    \n",
    "    def printList(self):\n",
    "        while self:\n",
    "            print(self)\n",
    "            self = self.next\n",
    "        print()"
   ]
  },
  {
   "cell_type": "markdown",
   "metadata": {},
   "source": [
    "## 2.1 Remove Dups"
   ]
  },
  {
   "cell_type": "code",
   "execution_count": 3,
   "metadata": {},
   "outputs": [
    {
     "name": "stdout",
     "output_type": "stream",
     "text": [
      "1\n",
      "2\n",
      "2\n",
      "3\n",
      "\n",
      "1\n",
      "2\n",
      "3\n",
      "\n"
     ]
    }
   ],
   "source": [
    "# O(n) time, O(n) space\n",
    "def removeDups(head):\n",
    "    itemInList = set()\n",
    "    \n",
    "    while head != None:\n",
    "        if (head.value in itemInList):\n",
    "            previous.next = head.next\n",
    "        else:\n",
    "            itemInList.add(head.value)\n",
    "            previous = head\n",
    "        head = head.next\n",
    "\n",
    "# O(n^2) time, O(1) space\n",
    "def removeDups2(head):\n",
    "    current = head\n",
    "    while current != None:\n",
    "        runner = current\n",
    "        while runner.next != None:\n",
    "            if (runner.next.value == current.value):\n",
    "                runner.next = runner.next.next\n",
    "            else:\n",
    "                runner = runner.next\n",
    "        current = current.next\n",
    "    \n",
    "        \n",
    "node4 = Node(3)\n",
    "node3 = Node(2, node4)\n",
    "node2 = Node(2, node3)\n",
    "node1 = Node(1, node2)\n",
    "\n",
    "node1.printList()\n",
    "removeDups2(node1)\n",
    "node1.printList()\n",
    "            "
   ]
  },
  {
   "cell_type": "markdown",
   "metadata": {},
   "source": [
    "## 2.2 Return Kth to Last"
   ]
  },
  {
   "cell_type": "code",
   "execution_count": 135,
   "metadata": {
    "scrolled": true
   },
   "outputs": [
    {
     "name": "stdout",
     "output_type": "stream",
     "text": [
      "1\n",
      "2\n",
      "3\n",
      "4\n",
      "\n",
      "2\n"
     ]
    }
   ],
   "source": [
    "def returnKthToLast(head, k):\n",
    "    if (k <= 0): return False\n",
    "    \n",
    "    itemInOrder = []\n",
    "    while head != None:\n",
    "        itemInOrder.append(head.value)\n",
    "        head = head.next\n",
    "    return itemInOrder[len(itemInOrder) - k]\n",
    "\n",
    "def returnKthToLast2(head, k):\n",
    "    if (k <= 0): return False\n",
    "    \n",
    "    p1 = head\n",
    "    p2 = head\n",
    "    for i in range(k):\n",
    "        p1 = p1.next\n",
    "    \n",
    "    while (p1 != None):\n",
    "        p1 = p1.next\n",
    "        p2 = p2.next\n",
    "    \n",
    "    return p2.value\n",
    "\n",
    "    \n",
    "node4 = Node(4)\n",
    "node3 = Node(3, node4)\n",
    "node2 = Node(2, node3)\n",
    "node1 = Node(1, node2)\n",
    "\n",
    "node1.printList()\n",
    "print(returnKthToLast2(node1, 3))"
   ]
  },
  {
   "cell_type": "markdown",
   "metadata": {
    "collapsed": true
   },
   "source": [
    "## 2.3 Delete Middle Node"
   ]
  },
  {
   "cell_type": "code",
   "execution_count": 147,
   "metadata": {},
   "outputs": [
    {
     "name": "stdout",
     "output_type": "stream",
     "text": [
      "1\n",
      "2\n",
      "3\n",
      "4\n",
      "\n",
      "True\n",
      "1\n",
      "2\n",
      "4\n",
      "\n"
     ]
    }
   ],
   "source": [
    "def deleteMiddleNode(n):\n",
    "    if (n == None or n.next == None):\n",
    "        return False\n",
    "    \n",
    "    n.value = n.next.value\n",
    "    n.next = n.next.next\n",
    "    \n",
    "    return True\n",
    "    \n",
    "    \n",
    "node4 = Node(4)\n",
    "node3 = Node(3, node4)\n",
    "node2 = Node(2, node3)\n",
    "node1 = Node(1, node2)\n",
    "\n",
    "node1.printList()\n",
    "print(deleteMiddleNode(node3))\n",
    "node1.printList()\n"
   ]
  },
  {
   "cell_type": "markdown",
   "metadata": {
    "collapsed": true
   },
   "source": [
    "## 2.4 Partition"
   ]
  },
  {
   "cell_type": "code",
   "execution_count": 11,
   "metadata": {},
   "outputs": [
    {
     "name": "stdout",
     "output_type": "stream",
     "text": [
      "5\n",
      "2\n",
      "3\n",
      "9\n",
      "1\n",
      "\n",
      "1\n",
      "3\n",
      "2\n",
      "5\n",
      "9\n",
      "\n"
     ]
    }
   ],
   "source": [
    "def partition(node, val):\n",
    "    if (node == None or node.next == None): return False\n",
    "    \n",
    "    head = node\n",
    "    tail = node\n",
    "    \n",
    "    while (node != None):\n",
    "        next = node.next\n",
    "        if (node.value < val):\n",
    "            node.next = head\n",
    "            head = node\n",
    "        else:\n",
    "            tail.next = node\n",
    "            tail = node\n",
    "        node = next\n",
    "    \n",
    "    tail.next = None\n",
    "    \n",
    "    return head\n",
    "        \n",
    "node9 = Node(1)\n",
    "node8 = Node(9, node9)\n",
    "node7 = Node(3, node8)\n",
    "node6 = Node(2, node7)\n",
    "node5 = Node(5, node6)\n",
    "\n",
    "node5.printList()\n",
    "partition(node5, 4).printList()"
   ]
  },
  {
   "cell_type": "markdown",
   "metadata": {},
   "source": [
    "## 2.5 Sum Lists"
   ]
  },
  {
   "cell_type": "code",
   "execution_count": 35,
   "metadata": {
    "scrolled": true
   },
   "outputs": [
    {
     "name": "stdout",
     "output_type": "stream",
     "text": [
      "1\n",
      "3\n",
      "1\n",
      "0\n",
      "None\n",
      "\n"
     ]
    }
   ],
   "source": [
    "# backward number\n",
    "def sumLists(node1, node2, carry):\n",
    "    if (node1 == None and node2 == None and carry == 0): return None\n",
    "    \n",
    "    value = carry\n",
    "    if (node1 != None):\n",
    "        value += node1.value\n",
    "    if (node2 != None):\n",
    "        value += node2.value\n",
    "            \n",
    "    result = Node(value%10)\n",
    "    \n",
    "    if (node1 != None or node2 != None):\n",
    "        rest = sumLists(null if node1 == None else node1.next,\n",
    "                       null if node2 == None else node2.next,\n",
    "                       0 if value < 10 else 1)\n",
    "        result.next = rest\n",
    "        \n",
    "    return result\n",
    "        \n",
    "# forward number\n",
    "class PartialSum():\n",
    "    sum = Node()\n",
    "    carry = 0\n",
    "\n",
    "def sumLists2(node1, node2):\n",
    "    len1 = length(node1)\n",
    "    len2 = length(node2)\n",
    "    \n",
    "    # pad shorter list\n",
    "    if (len1 < len2):\n",
    "        node1 = padList(node1, len2-len1)\n",
    "    else:\n",
    "        node2 = padList(node2, len1-len2)\n",
    "    \n",
    "    # add lists\n",
    "    sum = addListHelper(node1, node2)\n",
    "    \n",
    "    # insert carry in the head if needed\n",
    "    if (sum.carry == 0):\n",
    "        return sum.sum\n",
    "    else:\n",
    "        result = insertBefore(sum.sum, sum.carry)\n",
    "        return result\n",
    "    \n",
    "def addListHelper(node1, node2):\n",
    "    if (node1 == None and node2 == None):\n",
    "        sum = PartialSum()\n",
    "        return sum\n",
    "    \n",
    "    # add smaller digits recursively\n",
    "    sum = addListHelper(node1.next, node2.next)\n",
    "    \n",
    "    # add carry to current data\n",
    "    val = sum.carry + node1.value + node2.value\n",
    "    \n",
    "    # insert sum of current digits\n",
    "    fullResult = insertBefore(sum.sum, val%10)\n",
    "    \n",
    "    sum.sum = fullResult\n",
    "    sum.carry = 1 if val >=10 else 0\n",
    "    return sum\n",
    "\n",
    "def padList(node, padding):\n",
    "    head = node\n",
    "    for i in range(padding):\n",
    "        head = insertBefore(head, 0)\n",
    "    return head\n",
    "\n",
    "def insertBefore(list, value):\n",
    "    node = Node(value)\n",
    "    if (list != None):\n",
    "        node.next = list\n",
    "    return node\n",
    "    \n",
    "def length(node):\n",
    "    length = 0\n",
    "    \n",
    "    while (node != None):\n",
    "        length += 1\n",
    "        node = node.next\n",
    "        \n",
    "    return length\n",
    "\n",
    "    \n",
    "    \n",
    "node11 = Node(8)\n",
    "node12 = Node(1, node11)\n",
    "node13 = Node(7, node12)\n",
    "    \n",
    "node21 = Node(2)\n",
    "node22 = Node(9, node21)\n",
    "node23 = Node(5, node22)\n",
    "\n",
    "sumLists2(node13, node23).printList()\n"
   ]
  },
  {
   "cell_type": "markdown",
   "metadata": {
    "collapsed": true
   },
   "source": [
    "## 2.6 Palindrome"
   ]
  },
  {
   "cell_type": "code",
   "execution_count": 39,
   "metadata": {
    "scrolled": true
   },
   "outputs": [
    {
     "name": "stdout",
     "output_type": "stream",
     "text": [
      "1\n",
      "2\n",
      "3\n",
      "2\n",
      "1\n",
      "\n",
      "1\n",
      "2\n",
      "3\n",
      "2\n",
      "1\n",
      "\n",
      "True\n"
     ]
    }
   ],
   "source": [
    "# reverse and compare\n",
    "\n",
    "def isPalindrome(head):\n",
    "    reversed = reverseAndClone(head)\n",
    "    return isEqual(head, reversed)\n",
    "\n",
    "def reverseAndClone(node):\n",
    "    if (node != None):\n",
    "        tmp = Node(node.value)\n",
    "        tmp.next = None\n",
    "        head = tmp\n",
    "        node = node.next\n",
    "    \n",
    "    while (node != None):\n",
    "        tmp = Node(node.value)\n",
    "        tmp.next = head\n",
    "        head = tmp\n",
    "        node = node.next\n",
    "    return head\n",
    "\n",
    "def isEqual(node1, node2):\n",
    "    while (node1 != None and node2 != None):\n",
    "        if (node1.value != node2.value):\n",
    "            return False\n",
    "        node1 = node1.next\n",
    "        node2 = node2.next\n",
    "    return node1 == None and node2 == None\n",
    "\n",
    "node61 = Node(1)\n",
    "node62 = Node(2, node61)\n",
    "node63 = Node(3, node62)\n",
    "node64 = Node(2, node63)\n",
    "node65 = Node(1, node64)\n",
    "print(isPalindrome(node65))"
   ]
  },
  {
   "cell_type": "markdown",
   "metadata": {},
   "source": [
    "## 2.6 Palindrome 2"
   ]
  },
  {
   "cell_type": "code",
   "execution_count": 42,
   "metadata": {},
   "outputs": [
    {
     "name": "stdout",
     "output_type": "stream",
     "text": [
      "True\n"
     ]
    }
   ],
   "source": [
    "# 'Runner' to store half list\n",
    "\n",
    "def isPalindrome2(head):\n",
    "    fast = head\n",
    "    slow = head\n",
    "    \n",
    "    stackList = []\n",
    "    \n",
    "    while (fast != None and fast.next != None):\n",
    "        stackList.append(slow.value)\n",
    "        slow = slow.next\n",
    "        fast = fast.next.next\n",
    "        \n",
    "    if (fast != None):\n",
    "        slow = slow.next\n",
    "    \n",
    "    while (slow != None):\n",
    "        top = stackList.pop()\n",
    "        \n",
    "        if (top != slow.value):\n",
    "            return False\n",
    "        \n",
    "        slow = slow.next\n",
    "    \n",
    "    return True\n",
    "\n",
    "node621 = Node(1)\n",
    "node622 = Node(2, node621)\n",
    "node623 = Node(3, node622)\n",
    "node624 = Node(2, node623)\n",
    "node625 = Node(1, node624)\n",
    "print(isPalindrome2(node625))"
   ]
  },
  {
   "cell_type": "markdown",
   "metadata": {},
   "source": [
    "## 2.6 Palindrome 3"
   ]
  },
  {
   "cell_type": "code",
   "execution_count": 63,
   "metadata": {},
   "outputs": [
    {
     "name": "stdout",
     "output_type": "stream",
     "text": [
      "True\n"
     ]
    }
   ],
   "source": [
    "# Recursive\n",
    "\n",
    "class Result:\n",
    "    node = Node()\n",
    "    result = False\n",
    "\n",
    "def isPalindrome3(head):\n",
    "    length = lengthOfList(head)\n",
    "    p = isPalindromeRecurse(head, length)\n",
    "    return p.result\n",
    "\n",
    "def isPalindromeRecurse(head, length):\n",
    "    if (head == None or length <=0):  # even number of nodes\n",
    "        tmp = Result()\n",
    "        tmp.node = head\n",
    "        tmp.result = True\n",
    "        return tmp\n",
    "    elif (length == 1):  # odd number of nodes\n",
    "        tmp = Result()\n",
    "        tmp.node = head.next\n",
    "        tmp.result = True\n",
    "        return tmp\n",
    "    \n",
    "    res = isPalindromeRecurse(head.next, length-2)\n",
    "    \n",
    "    if ((not res.result) or res.node == None):\n",
    "        return res\n",
    "    \n",
    "    res.result = (head.value == res.node.value)\n",
    "    \n",
    "    res.node = res.node.next\n",
    "    \n",
    "    return res\n",
    "\n",
    "def lengthOfList(node):\n",
    "    length = 0\n",
    "    while (node != None):\n",
    "        length += 1\n",
    "        node = node.next\n",
    "    return length\n",
    "\n",
    "\n",
    "node631 = Node(1)\n",
    "node632 = Node(2, node631)\n",
    "node633 = Node(3, node632)\n",
    "node634 = Node(2, node633)\n",
    "node635 = Node(1, node634)\n",
    "\n",
    "print(isPalindrome3(node635))"
   ]
  },
  {
   "cell_type": "markdown",
   "metadata": {},
   "source": [
    "## 2.7 Intersection"
   ]
  },
  {
   "cell_type": "code",
   "execution_count": 5,
   "metadata": {},
   "outputs": [
    {
     "name": "stdout",
     "output_type": "stream",
     "text": [
      "7\n",
      "6\n",
      "2\n",
      "1\n",
      "\n",
      "5\n",
      "4\n",
      "3\n",
      "2\n",
      "1\n",
      "\n",
      "None\n",
      "f\n"
     ]
    }
   ],
   "source": [
    "class Result:\n",
    "    def __init__(self, tail, size):\n",
    "        self.tail = tail\n",
    "        self.size = size\n",
    "    \n",
    "def getTailAndSize(list):\n",
    "    if (list == None):\n",
    "        return None\n",
    "    \n",
    "    size = 1\n",
    "    current = list\n",
    "    while (current.next != None):\n",
    "        size += 1\n",
    "        current = current.next\n",
    "    \n",
    "    return Result(current, size)\n",
    "\n",
    "def getKthNode(head, k):\n",
    "    current = head\n",
    "    while (k > 0 and current != None):\n",
    "        current = current.next\n",
    "        k -= 1\n",
    "        \n",
    "    return current\n",
    "\n",
    "def findIntersection(list1, list2):\n",
    "    if (list1 == None or list2 == None):\n",
    "        return None\n",
    "    \n",
    "    result1 = getTailAndSize(list1)\n",
    "    result2 = getTailAndSize(list2)\n",
    "    \n",
    "    # different tail, no intersection ...\n",
    "    if (result1.tail != result2.tail):\n",
    "        return None\n",
    "    \n",
    "    # ... otherwise, must exist a intersection\n",
    "    shorter = list1 if result1.size < result2.size else list2\n",
    "    longer = list2 if result1.size < result2.size else list1\n",
    "    \n",
    "    longer = getKthNode(longer, abs(result1.size - result2.size))\n",
    "    \n",
    "    while (shorter != longer):\n",
    "        shorter = shorter.next\n",
    "        longer = longer.next\n",
    "    \n",
    "    return longer\n",
    "\n",
    "\n",
    "node71 = Node(1)\n",
    "node72 = Node(2, node71)\n",
    "\n",
    "node73 = Node(3, node72)\n",
    "node74 = Node(4, node73)\n",
    "node75 = Node(5, node74)\n",
    "\n",
    "node76 = Node(6, node72)\n",
    "node77 = Node(7, node76)\n",
    "\n",
    "node78 = Node()\n",
    "\n",
    "node77.printList()\n",
    "node75.printList()\n",
    "print(findIntersection(node77, node78))"
   ]
  },
  {
   "cell_type": "markdown",
   "metadata": {},
   "source": [
    "## 2.8 Loop Detection"
   ]
  },
  {
   "cell_type": "code",
   "execution_count": 15,
   "metadata": {},
   "outputs": [
    {
     "name": "stdout",
     "output_type": "stream",
     "text": [
      "3\n"
     ]
    }
   ],
   "source": [
    "def findBeginning(head):\n",
    "    slow = head\n",
    "    fast = head\n",
    "    \n",
    "    # find meeting point\n",
    "    while (fast != None and fast.next != None):\n",
    "        slow = slow.next\n",
    "        fast = fast.next.next\n",
    "        if (slow == fast):\n",
    "            break\n",
    "    \n",
    "    # error check: no loop\n",
    "    if (fast == None or fast.next == None):\n",
    "        return None\n",
    "    \n",
    "    slow = head\n",
    "    while (slow != fast):\n",
    "        slow = slow.next\n",
    "        fast = fast.next\n",
    "        \n",
    "    return slow\n",
    "\n",
    "\n",
    "node81 = Node(1)\n",
    "node82 = Node(2, node81)\n",
    "node83 = Node(3, node82)\n",
    "node84 = Node(4, node83)\n",
    "node85 = Node(5, node84)\n",
    "node83.next = node83\n",
    "\n",
    "print(findBeginning(node85))"
   ]
  },
  {
   "cell_type": "code",
   "execution_count": null,
   "metadata": {
    "collapsed": true
   },
   "outputs": [],
   "source": []
  }
 ],
 "metadata": {
  "anaconda-cloud": {},
  "kernelspec": {
   "display_name": "Python 3",
   "language": "python",
   "name": "python3"
  },
  "language_info": {
   "codemirror_mode": {
    "name": "ipython",
    "version": 3
   },
   "file_extension": ".py",
   "mimetype": "text/x-python",
   "name": "python",
   "nbconvert_exporter": "python",
   "pygments_lexer": "ipython3",
   "version": "3.5.2"
  }
 },
 "nbformat": 4,
 "nbformat_minor": 1
}

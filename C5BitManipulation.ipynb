{
 "cells": [
  {
   "cell_type": "markdown",
   "metadata": {},
   "source": [
    "# Chapter 5 Bit Manipulation"
   ]
  },
  {
   "cell_type": "markdown",
   "metadata": {},
   "source": [
    "## import packages"
   ]
  },
  {
   "cell_type": "code",
   "execution_count": null,
   "metadata": {
    "collapsed": true
   },
   "outputs": [],
   "source": [
    "import math"
   ]
  },
  {
   "cell_type": "markdown",
   "metadata": {},
   "source": [
    "## 5.1 Insertion"
   ]
  },
  {
   "cell_type": "code",
   "execution_count": 28,
   "metadata": {
    "collapsed": false
   },
   "outputs": [
    {
     "name": "stdout",
     "output_type": "stream",
     "text": [
      "0b1111111100011\n",
      "0b1011010000000\n",
      "0b1011110010100\n"
     ]
    }
   ],
   "source": [
    "# clear N between j and i, then set this to M\n",
    "def insertion(N, M, j, i):\n",
    "    right = (2**8 - 1) << (j+1)\n",
    "    left = (1 << i) - 1\n",
    "    mask = right | left\n",
    "    print(bin(mask))\n",
    "    print(bin(N&mask))\n",
    "    return (N & mask) | (M << i)\n",
    "    \n",
    "N = 10000000\n",
    "M = 101\n",
    "i = 2\n",
    "j = 4\n",
    "print(bin(insertion(N, M, j, i)))"
   ]
  },
  {
   "cell_type": "markdown",
   "metadata": {},
   "source": [
    "## 5.2 Binary to String"
   ]
  },
  {
   "cell_type": "code",
   "execution_count": 45,
   "metadata": {
    "collapsed": false
   },
   "outputs": [
    {
     "name": "stdout",
     "output_type": "stream",
     "text": [
      "0.11\n"
     ]
    }
   ],
   "source": [
    "def bin2str(num):\n",
    "    if (num >= 1 or num <= 0):\n",
    "        return 'Error'\n",
    "    \n",
    "    bin = ['0', '.']\n",
    "    while (num > 0):\n",
    "        if (len(bin) > 32):\n",
    "            return 'Error'\n",
    "        \n",
    "        tmp = num * 2\n",
    "        if (tmp >= 1):\n",
    "            bin.append('1')\n",
    "            num = tmp - 1\n",
    "        else:\n",
    "            bin.append('0')\n",
    "            num = tmp\n",
    "    \n",
    "    return ''.join(bin)\n",
    "\n",
    "# perpare some test cases\n",
    "test = 0.75\n",
    "print(bin2str(test))"
   ]
  },
  {
   "cell_type": "markdown",
   "metadata": {},
   "source": [
    "## 5.3 Flip Bit to Win"
   ]
  },
  {
   "cell_type": "code",
   "execution_count": 58,
   "metadata": {
    "collapsed": false
   },
   "outputs": [
    {
     "name": "stdout",
     "output_type": "stream",
     "text": [
      "8\n"
     ]
    }
   ],
   "source": [
    "def longestSeq(num):\n",
    "    N = len(num)\n",
    "    if (N == 0):\n",
    "        return False\n",
    "    \n",
    "    maxLen = 0\n",
    "    curLen = 0\n",
    "    zeroFlag = False\n",
    "    \n",
    "    for i in range(N):\n",
    "        if (num[N-1-i] == '1'):\n",
    "            curLen += 1\n",
    "        else:\n",
    "            if (not zeroFlag):\n",
    "                curLen += 1\n",
    "                zeroFlag = True\n",
    "            else:\n",
    "                maxLen = max(maxLen, curLen)\n",
    "                curLen = 0\n",
    "                zeroFlag = False\n",
    "    \n",
    "    return maxLen\n",
    "\n",
    "test = '11011101111'\n",
    "print(longestSeq(test))"
   ]
  },
  {
   "cell_type": "code",
   "execution_count": null,
   "metadata": {
    "collapsed": true
   },
   "outputs": [],
   "source": []
  }
 ],
 "metadata": {
  "kernelspec": {
   "display_name": "Python [default]",
   "language": "python",
   "name": "python3"
  },
  "language_info": {
   "codemirror_mode": {
    "name": "ipython",
    "version": 3
   },
   "file_extension": ".py",
   "mimetype": "text/x-python",
   "name": "python",
   "nbconvert_exporter": "python",
   "pygments_lexer": "ipython3",
   "version": "3.5.2"
  }
 },
 "nbformat": 4,
 "nbformat_minor": 1
}
